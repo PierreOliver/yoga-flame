{
 "cells": [
  {
   "cell_type": "code",
   "execution_count": 1,
   "metadata": {},
   "outputs": [],
   "source": [
    "import quandl\n",
    "import pandas as pd"
   ]
  },
  {
   "cell_type": "code",
   "execution_count": 2,
   "metadata": {},
   "outputs": [],
   "source": [
    "start = pd.to_datetime('2012-01-01')\n",
    "end = pd.to_datetime('2022-01-01')"
   ]
  },
  {
   "cell_type": "code",
   "execution_count": 3,
   "metadata": {},
   "outputs": [],
   "source": [
    "aapl = quandl.get('WIKI/AAPL.11',start_date = start, end_date = end)\n",
    "csco = quandl.get('WIKI/CSCO.11',start_date = start, end_date = end)\n",
    "ibm = quandl.get('WIKI/IBM.11',start_date = start, end_date = end)\n",
    "amzn = quandl.get('WIKI/AMZN.11',start_date = start, end_date = end)"
   ]
  },
  {
   "cell_type": "code",
   "execution_count": 4,
   "metadata": {},
   "outputs": [],
   "source": [
    "for stock_df in (aapl, csco, ibm, amzn):\n",
    "    stock_df[\"Normalized Return\"] = stock_df[\"Adj. Close\"]/stock_df.iloc[0,0]\n",
    "    \n"
   ]
  },
  {
   "cell_type": "code",
   "execution_count": 5,
   "metadata": {},
   "outputs": [],
   "source": [
    "#30% in aapl\n",
    "#20% in csco\n",
    "#40% in amazon\n",
    "#10% in ibm\n",
    "\n",
    "for stock_df, allo in zip((aapl, csco, ibm, amzn),[.3,.2,.4,.1]):\n",
    "    stock_df[\"Allocation\"] = stock_df['Normalized Return'] * allo"
   ]
  },
  {
   "cell_type": "code",
   "execution_count": 6,
   "metadata": {},
   "outputs": [],
   "source": [
    "for stock_df in (aapl, csco, ibm, amzn):\n",
    "    stock_df[\"Position Values\"] = stock_df['Allocation'] * 1000000"
   ]
  },
  {
   "cell_type": "code",
   "execution_count": 7,
   "metadata": {},
   "outputs": [],
   "source": [
    "all_pos_vals = [aapl['Position Values'], csco['Position Values'], ibm['Position Values'],amzn['Position Values']]\n",
    "\n",
    "\n",
    "port_val = pd.concat(all_pos_vals, axis =1)\n",
    "port_val.columns = [\"AAPL Pos Vals\",\"CSCO Pos Vals\",\"IBM Pos Vals\",\"AMZN Pos Vals\"]"
   ]
  },
  {
   "cell_type": "code",
   "execution_count": 8,
   "metadata": {},
   "outputs": [
    {
     "data": {
      "text/html": [
       "<div>\n",
       "<style scoped>\n",
       "    .dataframe tbody tr th:only-of-type {\n",
       "        vertical-align: middle;\n",
       "    }\n",
       "\n",
       "    .dataframe tbody tr th {\n",
       "        vertical-align: top;\n",
       "    }\n",
       "\n",
       "    .dataframe thead th {\n",
       "        text-align: right;\n",
       "    }\n",
       "</style>\n",
       "<table border=\"1\" class=\"dataframe\">\n",
       "  <thead>\n",
       "    <tr style=\"text-align: right;\">\n",
       "      <th></th>\n",
       "      <th>AAPL Pos Vals</th>\n",
       "      <th>CSCO Pos Vals</th>\n",
       "      <th>IBM Pos Vals</th>\n",
       "      <th>AMZN Pos Vals</th>\n",
       "    </tr>\n",
       "    <tr>\n",
       "      <th>Date</th>\n",
       "      <th></th>\n",
       "      <th></th>\n",
       "      <th></th>\n",
       "      <th></th>\n",
       "    </tr>\n",
       "  </thead>\n",
       "  <tbody>\n",
       "    <tr>\n",
       "      <th>2012-01-03</th>\n",
       "      <td>300000.000000</td>\n",
       "      <td>200000.000000</td>\n",
       "      <td>400000.000000</td>\n",
       "      <td>100000.000000</td>\n",
       "    </tr>\n",
       "    <tr>\n",
       "      <th>2012-01-04</th>\n",
       "      <td>301612.236461</td>\n",
       "      <td>203864.734300</td>\n",
       "      <td>398368.223296</td>\n",
       "      <td>99150.980283</td>\n",
       "    </tr>\n",
       "    <tr>\n",
       "      <th>2012-01-05</th>\n",
       "      <td>304960.727573</td>\n",
       "      <td>203113.258186</td>\n",
       "      <td>396478.797638</td>\n",
       "      <td>99206.836843</td>\n",
       "    </tr>\n",
       "    <tr>\n",
       "      <th>2012-01-06</th>\n",
       "      <td>308148.724558</td>\n",
       "      <td>202361.782072</td>\n",
       "      <td>391926.999463</td>\n",
       "      <td>101999.664861</td>\n",
       "    </tr>\n",
       "    <tr>\n",
       "      <th>2012-01-09</th>\n",
       "      <td>307659.946988</td>\n",
       "      <td>203650.026838</td>\n",
       "      <td>389887.278583</td>\n",
       "      <td>99737.474166</td>\n",
       "    </tr>\n",
       "    <tr>\n",
       "      <th>...</th>\n",
       "      <td>...</td>\n",
       "      <td>...</td>\n",
       "      <td>...</td>\n",
       "      <td>...</td>\n",
       "    </tr>\n",
       "    <tr>\n",
       "      <th>2018-03-21</th>\n",
       "      <td>972226.673969</td>\n",
       "      <td>567446.158939</td>\n",
       "      <td>397744.940688</td>\n",
       "      <td>883572.585600</td>\n",
       "    </tr>\n",
       "    <tr>\n",
       "      <th>2018-03-22</th>\n",
       "      <td>958460.984214</td>\n",
       "      <td>551566.374757</td>\n",
       "      <td>386068.211304</td>\n",
       "      <td>862481.148411</td>\n",
       "    </tr>\n",
       "    <tr>\n",
       "      <th>2018-03-23</th>\n",
       "      <td>936293.966278</td>\n",
       "      <td>543242.294339</td>\n",
       "      <td>377945.269124</td>\n",
       "      <td>835368.374016</td>\n",
       "    </tr>\n",
       "    <tr>\n",
       "      <th>2018-03-26</th>\n",
       "      <td>980741.533611</td>\n",
       "      <td>564244.589547</td>\n",
       "      <td>389317.388176</td>\n",
       "      <td>869049.879908</td>\n",
       "    </tr>\n",
       "    <tr>\n",
       "      <th>2018-03-27</th>\n",
       "      <td>955594.314801</td>\n",
       "      <td>546571.926506</td>\n",
       "      <td>385611.295806</td>\n",
       "      <td>836200.636765</td>\n",
       "    </tr>\n",
       "  </tbody>\n",
       "</table>\n",
       "<p>1567 rows × 4 columns</p>\n",
       "</div>"
      ],
      "text/plain": [
       "            AAPL Pos Vals  CSCO Pos Vals   IBM Pos Vals  AMZN Pos Vals\n",
       "Date                                                                  \n",
       "2012-01-03  300000.000000  200000.000000  400000.000000  100000.000000\n",
       "2012-01-04  301612.236461  203864.734300  398368.223296   99150.980283\n",
       "2012-01-05  304960.727573  203113.258186  396478.797638   99206.836843\n",
       "2012-01-06  308148.724558  202361.782072  391926.999463  101999.664861\n",
       "2012-01-09  307659.946988  203650.026838  389887.278583   99737.474166\n",
       "...                   ...            ...            ...            ...\n",
       "2018-03-21  972226.673969  567446.158939  397744.940688  883572.585600\n",
       "2018-03-22  958460.984214  551566.374757  386068.211304  862481.148411\n",
       "2018-03-23  936293.966278  543242.294339  377945.269124  835368.374016\n",
       "2018-03-26  980741.533611  564244.589547  389317.388176  869049.879908\n",
       "2018-03-27  955594.314801  546571.926506  385611.295806  836200.636765\n",
       "\n",
       "[1567 rows x 4 columns]"
      ]
     },
     "execution_count": 8,
     "metadata": {},
     "output_type": "execute_result"
    }
   ],
   "source": [
    "port_val"
   ]
  },
  {
   "cell_type": "code",
   "execution_count": 9,
   "metadata": {},
   "outputs": [],
   "source": [
    "port_val[\"Total Position\"] = port_val[\"AAPL Pos Vals\"] + port_val[\"CSCO Pos Vals\"]+ port_val[\"IBM Pos Vals\"]+port_val[\"AMZN Pos Vals\"]"
   ]
  },
  {
   "cell_type": "code",
   "execution_count": 10,
   "metadata": {},
   "outputs": [
    {
     "data": {
      "text/html": [
       "<div>\n",
       "<style scoped>\n",
       "    .dataframe tbody tr th:only-of-type {\n",
       "        vertical-align: middle;\n",
       "    }\n",
       "\n",
       "    .dataframe tbody tr th {\n",
       "        vertical-align: top;\n",
       "    }\n",
       "\n",
       "    .dataframe thead th {\n",
       "        text-align: right;\n",
       "    }\n",
       "</style>\n",
       "<table border=\"1\" class=\"dataframe\">\n",
       "  <thead>\n",
       "    <tr style=\"text-align: right;\">\n",
       "      <th></th>\n",
       "      <th>AAPL Pos Vals</th>\n",
       "      <th>CSCO Pos Vals</th>\n",
       "      <th>IBM Pos Vals</th>\n",
       "      <th>AMZN Pos Vals</th>\n",
       "      <th>Total Position</th>\n",
       "    </tr>\n",
       "    <tr>\n",
       "      <th>Date</th>\n",
       "      <th></th>\n",
       "      <th></th>\n",
       "      <th></th>\n",
       "      <th></th>\n",
       "      <th></th>\n",
       "    </tr>\n",
       "  </thead>\n",
       "  <tbody>\n",
       "    <tr>\n",
       "      <th>2012-01-03</th>\n",
       "      <td>300000.000000</td>\n",
       "      <td>200000.000000</td>\n",
       "      <td>400000.000000</td>\n",
       "      <td>100000.000000</td>\n",
       "      <td>1.000000e+06</td>\n",
       "    </tr>\n",
       "    <tr>\n",
       "      <th>2012-01-04</th>\n",
       "      <td>301612.236461</td>\n",
       "      <td>203864.734300</td>\n",
       "      <td>398368.223296</td>\n",
       "      <td>99150.980283</td>\n",
       "      <td>1.002996e+06</td>\n",
       "    </tr>\n",
       "    <tr>\n",
       "      <th>2012-01-05</th>\n",
       "      <td>304960.727573</td>\n",
       "      <td>203113.258186</td>\n",
       "      <td>396478.797638</td>\n",
       "      <td>99206.836843</td>\n",
       "      <td>1.003760e+06</td>\n",
       "    </tr>\n",
       "    <tr>\n",
       "      <th>2012-01-06</th>\n",
       "      <td>308148.724558</td>\n",
       "      <td>202361.782072</td>\n",
       "      <td>391926.999463</td>\n",
       "      <td>101999.664861</td>\n",
       "      <td>1.004437e+06</td>\n",
       "    </tr>\n",
       "    <tr>\n",
       "      <th>2012-01-09</th>\n",
       "      <td>307659.946988</td>\n",
       "      <td>203650.026838</td>\n",
       "      <td>389887.278583</td>\n",
       "      <td>99737.474166</td>\n",
       "      <td>1.000935e+06</td>\n",
       "    </tr>\n",
       "    <tr>\n",
       "      <th>...</th>\n",
       "      <td>...</td>\n",
       "      <td>...</td>\n",
       "      <td>...</td>\n",
       "      <td>...</td>\n",
       "      <td>...</td>\n",
       "    </tr>\n",
       "    <tr>\n",
       "      <th>2018-03-21</th>\n",
       "      <td>972226.673969</td>\n",
       "      <td>567446.158939</td>\n",
       "      <td>397744.940688</td>\n",
       "      <td>883572.585600</td>\n",
       "      <td>2.820990e+06</td>\n",
       "    </tr>\n",
       "    <tr>\n",
       "      <th>2018-03-22</th>\n",
       "      <td>958460.984214</td>\n",
       "      <td>551566.374757</td>\n",
       "      <td>386068.211304</td>\n",
       "      <td>862481.148411</td>\n",
       "      <td>2.758577e+06</td>\n",
       "    </tr>\n",
       "    <tr>\n",
       "      <th>2018-03-23</th>\n",
       "      <td>936293.966278</td>\n",
       "      <td>543242.294339</td>\n",
       "      <td>377945.269124</td>\n",
       "      <td>835368.374016</td>\n",
       "      <td>2.692850e+06</td>\n",
       "    </tr>\n",
       "    <tr>\n",
       "      <th>2018-03-26</th>\n",
       "      <td>980741.533611</td>\n",
       "      <td>564244.589547</td>\n",
       "      <td>389317.388176</td>\n",
       "      <td>869049.879908</td>\n",
       "      <td>2.803353e+06</td>\n",
       "    </tr>\n",
       "    <tr>\n",
       "      <th>2018-03-27</th>\n",
       "      <td>955594.314801</td>\n",
       "      <td>546571.926506</td>\n",
       "      <td>385611.295806</td>\n",
       "      <td>836200.636765</td>\n",
       "      <td>2.723978e+06</td>\n",
       "    </tr>\n",
       "  </tbody>\n",
       "</table>\n",
       "<p>1567 rows × 5 columns</p>\n",
       "</div>"
      ],
      "text/plain": [
       "            AAPL Pos Vals  CSCO Pos Vals   IBM Pos Vals  AMZN Pos Vals  \\\n",
       "Date                                                                     \n",
       "2012-01-03  300000.000000  200000.000000  400000.000000  100000.000000   \n",
       "2012-01-04  301612.236461  203864.734300  398368.223296   99150.980283   \n",
       "2012-01-05  304960.727573  203113.258186  396478.797638   99206.836843   \n",
       "2012-01-06  308148.724558  202361.782072  391926.999463  101999.664861   \n",
       "2012-01-09  307659.946988  203650.026838  389887.278583   99737.474166   \n",
       "...                   ...            ...            ...            ...   \n",
       "2018-03-21  972226.673969  567446.158939  397744.940688  883572.585600   \n",
       "2018-03-22  958460.984214  551566.374757  386068.211304  862481.148411   \n",
       "2018-03-23  936293.966278  543242.294339  377945.269124  835368.374016   \n",
       "2018-03-26  980741.533611  564244.589547  389317.388176  869049.879908   \n",
       "2018-03-27  955594.314801  546571.926506  385611.295806  836200.636765   \n",
       "\n",
       "            Total Position  \n",
       "Date                        \n",
       "2012-01-03    1.000000e+06  \n",
       "2012-01-04    1.002996e+06  \n",
       "2012-01-05    1.003760e+06  \n",
       "2012-01-06    1.004437e+06  \n",
       "2012-01-09    1.000935e+06  \n",
       "...                    ...  \n",
       "2018-03-21    2.820990e+06  \n",
       "2018-03-22    2.758577e+06  \n",
       "2018-03-23    2.692850e+06  \n",
       "2018-03-26    2.803353e+06  \n",
       "2018-03-27    2.723978e+06  \n",
       "\n",
       "[1567 rows x 5 columns]"
      ]
     },
     "execution_count": 10,
     "metadata": {},
     "output_type": "execute_result"
    }
   ],
   "source": [
    "port_val"
   ]
  },
  {
   "cell_type": "code",
   "execution_count": 11,
   "metadata": {},
   "outputs": [
    {
     "data": {
      "text/plain": [
       "<AxesSubplot:xlabel='Date'>"
      ]
     },
     "execution_count": 11,
     "metadata": {},
     "output_type": "execute_result"
    },
    {
     "data": {
      "image/png": "[encoded data removed]",
      "text/plain": [
       "<Figure size 432x288 with 1 Axes>"
      ]
     },
     "metadata": {
      "needs_background": "light"
     },
     "output_type": "display_data"
    }
   ],
   "source": [
    "port_val.plot()"
   ]
  },
  {
   "cell_type": "code",
   "execution_count": 12,
   "metadata": {},
   "outputs": [],
   "source": [
    "import matplotlib.pyplot as plt\n",
    "%matplotlib inline"
   ]
  },
  {
   "cell_type": "code",
   "execution_count": 13,
   "metadata": {},
   "outputs": [
    {
     "data": {
      "text/plain": [
       "Text(0.5, 1.0, 'My Money')"
      ]
     },
     "execution_count": 13,
     "metadata": {},
     "output_type": "execute_result"
    },
    {
     "data": {
      "image/png": "[encoded data removed]",
      "text/plain": [
       "<Figure size 720x576 with 1 Axes>"
      ]
     },
     "metadata": {
      "needs_background": "light"
     },
     "output_type": "display_data"
    }
   ],
   "source": [
    "port_val[\"Total Position\"].plot(figsize=(10,8))\n",
    "plt.title(\"My Money\")"
   ]
  },
  {
   "cell_type": "code",
   "execution_count": 14,
   "metadata": {},
   "outputs": [],
   "source": [
    "port_val[\"Daily Returns\"] = port_val[\"Total Position\"].pct_change(1)"
   ]
  },
  {
   "cell_type": "code",
   "execution_count": 15,
   "metadata": {},
   "outputs": [
    {
     "data": {
      "text/html": [
       "<div>\n",
       "<style scoped>\n",
       "    .dataframe tbody tr th:only-of-type {\n",
       "        vertical-align: middle;\n",
       "    }\n",
       "\n",
       "    .dataframe tbody tr th {\n",
       "        vertical-align: top;\n",
       "    }\n",
       "\n",
       "    .dataframe thead th {\n",
       "        text-align: right;\n",
       "    }\n",
       "</style>\n",
       "<table border=\"1\" class=\"dataframe\">\n",
       "  <thead>\n",
       "    <tr style=\"text-align: right;\">\n",
       "      <th></th>\n",
       "      <th>AAPL Pos Vals</th>\n",
       "      <th>CSCO Pos Vals</th>\n",
       "      <th>IBM Pos Vals</th>\n",
       "      <th>AMZN Pos Vals</th>\n",
       "      <th>Total Position</th>\n",
       "      <th>Daily Returns</th>\n",
       "    </tr>\n",
       "    <tr>\n",
       "      <th>Date</th>\n",
       "      <th></th>\n",
       "      <th></th>\n",
       "      <th></th>\n",
       "      <th></th>\n",
       "      <th></th>\n",
       "      <th></th>\n",
       "    </tr>\n",
       "  </thead>\n",
       "  <tbody>\n",
       "    <tr>\n",
       "      <th>2012-01-03</th>\n",
       "      <td>300000.000000</td>\n",
       "      <td>200000.000000</td>\n",
       "      <td>400000.000000</td>\n",
       "      <td>100000.000000</td>\n",
       "      <td>1.000000e+06</td>\n",
       "      <td>NaN</td>\n",
       "    </tr>\n",
       "    <tr>\n",
       "      <th>2012-01-04</th>\n",
       "      <td>301612.236461</td>\n",
       "      <td>203864.734300</td>\n",
       "      <td>398368.223296</td>\n",
       "      <td>99150.980283</td>\n",
       "      <td>1.002996e+06</td>\n",
       "      <td>0.002996</td>\n",
       "    </tr>\n",
       "    <tr>\n",
       "      <th>2012-01-05</th>\n",
       "      <td>304960.727573</td>\n",
       "      <td>203113.258186</td>\n",
       "      <td>396478.797638</td>\n",
       "      <td>99206.836843</td>\n",
       "      <td>1.003760e+06</td>\n",
       "      <td>0.000761</td>\n",
       "    </tr>\n",
       "    <tr>\n",
       "      <th>2012-01-06</th>\n",
       "      <td>308148.724558</td>\n",
       "      <td>202361.782072</td>\n",
       "      <td>391926.999463</td>\n",
       "      <td>101999.664861</td>\n",
       "      <td>1.004437e+06</td>\n",
       "      <td>0.000675</td>\n",
       "    </tr>\n",
       "    <tr>\n",
       "      <th>2012-01-09</th>\n",
       "      <td>307659.946988</td>\n",
       "      <td>203650.026838</td>\n",
       "      <td>389887.278583</td>\n",
       "      <td>99737.474166</td>\n",
       "      <td>1.000935e+06</td>\n",
       "      <td>-0.003487</td>\n",
       "    </tr>\n",
       "    <tr>\n",
       "      <th>...</th>\n",
       "      <td>...</td>\n",
       "      <td>...</td>\n",
       "      <td>...</td>\n",
       "      <td>...</td>\n",
       "      <td>...</td>\n",
       "      <td>...</td>\n",
       "    </tr>\n",
       "    <tr>\n",
       "      <th>2018-03-21</th>\n",
       "      <td>972226.673969</td>\n",
       "      <td>567446.158939</td>\n",
       "      <td>397744.940688</td>\n",
       "      <td>883572.585600</td>\n",
       "      <td>2.820990e+06</td>\n",
       "      <td>-0.008665</td>\n",
       "    </tr>\n",
       "    <tr>\n",
       "      <th>2018-03-22</th>\n",
       "      <td>958460.984214</td>\n",
       "      <td>551566.374757</td>\n",
       "      <td>386068.211304</td>\n",
       "      <td>862481.148411</td>\n",
       "      <td>2.758577e+06</td>\n",
       "      <td>-0.022125</td>\n",
       "    </tr>\n",
       "    <tr>\n",
       "      <th>2018-03-23</th>\n",
       "      <td>936293.966278</td>\n",
       "      <td>543242.294339</td>\n",
       "      <td>377945.269124</td>\n",
       "      <td>835368.374016</td>\n",
       "      <td>2.692850e+06</td>\n",
       "      <td>-0.023826</td>\n",
       "    </tr>\n",
       "    <tr>\n",
       "      <th>2018-03-26</th>\n",
       "      <td>980741.533611</td>\n",
       "      <td>564244.589547</td>\n",
       "      <td>389317.388176</td>\n",
       "      <td>869049.879908</td>\n",
       "      <td>2.803353e+06</td>\n",
       "      <td>0.041036</td>\n",
       "    </tr>\n",
       "    <tr>\n",
       "      <th>2018-03-27</th>\n",
       "      <td>955594.314801</td>\n",
       "      <td>546571.926506</td>\n",
       "      <td>385611.295806</td>\n",
       "      <td>836200.636765</td>\n",
       "      <td>2.723978e+06</td>\n",
       "      <td>-0.028314</td>\n",
       "    </tr>\n",
       "  </tbody>\n",
       "</table>\n",
       "<p>1567 rows × 6 columns</p>\n",
       "</div>"
      ],
      "text/plain": [
       "            AAPL Pos Vals  CSCO Pos Vals   IBM Pos Vals  AMZN Pos Vals  \\\n",
       "Date                                                                     \n",
       "2012-01-03  300000.000000  200000.000000  400000.000000  100000.000000   \n",
       "2012-01-04  301612.236461  203864.734300  398368.223296   99150.980283   \n",
       "2012-01-05  304960.727573  203113.258186  396478.797638   99206.836843   \n",
       "2012-01-06  308148.724558  202361.782072  391926.999463  101999.664861   \n",
       "2012-01-09  307659.946988  203650.026838  389887.278583   99737.474166   \n",
       "...                   ...            ...            ...            ...   \n",
       "2018-03-21  972226.673969  567446.158939  397744.940688  883572.585600   \n",
       "2018-03-22  958460.984214  551566.374757  386068.211304  862481.148411   \n",
       "2018-03-23  936293.966278  543242.294339  377945.269124  835368.374016   \n",
       "2018-03-26  980741.533611  564244.589547  389317.388176  869049.879908   \n",
       "2018-03-27  955594.314801  546571.926506  385611.295806  836200.636765   \n",
       "\n",
       "            Total Position  Daily Returns  \n",
       "Date                                       \n",
       "2012-01-03    1.000000e+06            NaN  \n",
       "2012-01-04    1.002996e+06       0.002996  \n",
       "2012-01-05    1.003760e+06       0.000761  \n",
       "2012-01-06    1.004437e+06       0.000675  \n",
       "2012-01-09    1.000935e+06      -0.003487  \n",
       "...                    ...            ...  \n",
       "2018-03-21    2.820990e+06      -0.008665  \n",
       "2018-03-22    2.758577e+06      -0.022125  \n",
       "2018-03-23    2.692850e+06      -0.023826  \n",
       "2018-03-26    2.803353e+06       0.041036  \n",
       "2018-03-27    2.723978e+06      -0.028314  \n",
       "\n",
       "[1567 rows x 6 columns]"
      ]
     },
     "execution_count": 15,
     "metadata": {},
     "output_type": "execute_result"
    }
   ],
   "source": [
    "port_val"
   ]
  },
  {
   "cell_type": "code",
   "execution_count": 16,
   "metadata": {},
   "outputs": [
    {
     "data": {
      "text/plain": [
       "<AxesSubplot:ylabel='Frequency'>"
      ]
     },
     "execution_count": 16,
     "metadata": {},
     "output_type": "execute_result"
    },
    {
     "data": {
      "image/png": "[encoded data removed]",
      "text/plain": [
       "<Figure size 432x288 with 1 Axes>"
      ]
     },
     "metadata": {
      "needs_background": "light"
     },
     "output_type": "display_data"
    }
   ],
   "source": [
    "port_val[\"Daily Returns\"].plot(kind = \"hist\", bins = 75)"
   ]
  },
  {
   "cell_type": "code",
   "execution_count": 17,
   "metadata": {},
   "outputs": [
    {
     "data": {
      "text/plain": [
       "<AxesSubplot:ylabel='Density'>"
      ]
     },
     "execution_count": 17,
     "metadata": {},
     "output_type": "execute_result"
    },
    {
     "data": {
      "image/png": "[encoded data removed]",
      "text/plain": [
       "<Figure size 432x288 with 1 Axes>"
      ]
     },
     "metadata": {
      "needs_background": "light"
     },
     "output_type": "display_data"
    }
   ],
   "source": [
    "port_val[\"Daily Returns\"].plot(kind = \"kde\")"
   ]
  },
  {
   "cell_type": "code",
   "execution_count": 18,
   "metadata": {},
   "outputs": [
    {
     "data": {
      "text/html": [
       "<div>\n",
       "<style scoped>\n",
       "    .dataframe tbody tr th:only-of-type {\n",
       "        vertical-align: middle;\n",
       "    }\n",
       "\n",
       "    .dataframe tbody tr th {\n",
       "        vertical-align: top;\n",
       "    }\n",
       "\n",
       "    .dataframe thead th {\n",
       "        text-align: right;\n",
       "    }\n",
       "</style>\n",
       "<table border=\"1\" class=\"dataframe\">\n",
       "  <thead>\n",
       "    <tr style=\"text-align: right;\">\n",
       "      <th></th>\n",
       "      <th>AAPL Pos Vals</th>\n",
       "      <th>CSCO Pos Vals</th>\n",
       "      <th>IBM Pos Vals</th>\n",
       "      <th>AMZN Pos Vals</th>\n",
       "      <th>Total Position</th>\n",
       "      <th>Daily Returns</th>\n",
       "    </tr>\n",
       "    <tr>\n",
       "      <th>Date</th>\n",
       "      <th></th>\n",
       "      <th></th>\n",
       "      <th></th>\n",
       "      <th></th>\n",
       "      <th></th>\n",
       "      <th></th>\n",
       "    </tr>\n",
       "  </thead>\n",
       "  <tbody>\n",
       "    <tr>\n",
       "      <th>2012-01-03</th>\n",
       "      <td>300000.000000</td>\n",
       "      <td>200000.000000</td>\n",
       "      <td>400000.000000</td>\n",
       "      <td>100000.000000</td>\n",
       "      <td>1.000000e+06</td>\n",
       "      <td>NaN</td>\n",
       "    </tr>\n",
       "    <tr>\n",
       "      <th>2012-01-04</th>\n",
       "      <td>301612.236461</td>\n",
       "      <td>203864.734300</td>\n",
       "      <td>398368.223296</td>\n",
       "      <td>99150.980283</td>\n",
       "      <td>1.002996e+06</td>\n",
       "      <td>0.002996</td>\n",
       "    </tr>\n",
       "    <tr>\n",
       "      <th>2012-01-05</th>\n",
       "      <td>304960.727573</td>\n",
       "      <td>203113.258186</td>\n",
       "      <td>396478.797638</td>\n",
       "      <td>99206.836843</td>\n",
       "      <td>1.003760e+06</td>\n",
       "      <td>0.000761</td>\n",
       "    </tr>\n",
       "    <tr>\n",
       "      <th>2012-01-06</th>\n",
       "      <td>308148.724558</td>\n",
       "      <td>202361.782072</td>\n",
       "      <td>391926.999463</td>\n",
       "      <td>101999.664861</td>\n",
       "      <td>1.004437e+06</td>\n",
       "      <td>0.000675</td>\n",
       "    </tr>\n",
       "    <tr>\n",
       "      <th>2012-01-09</th>\n",
       "      <td>307659.946988</td>\n",
       "      <td>203650.026838</td>\n",
       "      <td>389887.278583</td>\n",
       "      <td>99737.474166</td>\n",
       "      <td>1.000935e+06</td>\n",
       "      <td>-0.003487</td>\n",
       "    </tr>\n",
       "    <tr>\n",
       "      <th>...</th>\n",
       "      <td>...</td>\n",
       "      <td>...</td>\n",
       "      <td>...</td>\n",
       "      <td>...</td>\n",
       "      <td>...</td>\n",
       "      <td>...</td>\n",
       "    </tr>\n",
       "    <tr>\n",
       "      <th>2018-03-21</th>\n",
       "      <td>972226.673969</td>\n",
       "      <td>567446.158939</td>\n",
       "      <td>397744.940688</td>\n",
       "      <td>883572.585600</td>\n",
       "      <td>2.820990e+06</td>\n",
       "      <td>-0.008665</td>\n",
       "    </tr>\n",
       "    <tr>\n",
       "      <th>2018-03-22</th>\n",
       "      <td>958460.984214</td>\n",
       "      <td>551566.374757</td>\n",
       "      <td>386068.211304</td>\n",
       "      <td>862481.148411</td>\n",
       "      <td>2.758577e+06</td>\n",
       "      <td>-0.022125</td>\n",
       "    </tr>\n",
       "    <tr>\n",
       "      <th>2018-03-23</th>\n",
       "      <td>936293.966278</td>\n",
       "      <td>543242.294339</td>\n",
       "      <td>377945.269124</td>\n",
       "      <td>835368.374016</td>\n",
       "      <td>2.692850e+06</td>\n",
       "      <td>-0.023826</td>\n",
       "    </tr>\n",
       "    <tr>\n",
       "      <th>2018-03-26</th>\n",
       "      <td>980741.533611</td>\n",
       "      <td>564244.589547</td>\n",
       "      <td>389317.388176</td>\n",
       "      <td>869049.879908</td>\n",
       "      <td>2.803353e+06</td>\n",
       "      <td>0.041036</td>\n",
       "    </tr>\n",
       "    <tr>\n",
       "      <th>2018-03-27</th>\n",
       "      <td>955594.314801</td>\n",
       "      <td>546571.926506</td>\n",
       "      <td>385611.295806</td>\n",
       "      <td>836200.636765</td>\n",
       "      <td>2.723978e+06</td>\n",
       "      <td>-0.028314</td>\n",
       "    </tr>\n",
       "  </tbody>\n",
       "</table>\n",
       "<p>1567 rows × 6 columns</p>\n",
       "</div>"
      ],
      "text/plain": [
       "            AAPL Pos Vals  CSCO Pos Vals   IBM Pos Vals  AMZN Pos Vals  \\\n",
       "Date                                                                     \n",
       "2012-01-03  300000.000000  200000.000000  400000.000000  100000.000000   \n",
       "2012-01-04  301612.236461  203864.734300  398368.223296   99150.980283   \n",
       "2012-01-05  304960.727573  203113.258186  396478.797638   99206.836843   \n",
       "2012-01-06  308148.724558  202361.782072  391926.999463  101999.664861   \n",
       "2012-01-09  307659.946988  203650.026838  389887.278583   99737.474166   \n",
       "...                   ...            ...            ...            ...   \n",
       "2018-03-21  972226.673969  567446.158939  397744.940688  883572.585600   \n",
       "2018-03-22  958460.984214  551566.374757  386068.211304  862481.148411   \n",
       "2018-03-23  936293.966278  543242.294339  377945.269124  835368.374016   \n",
       "2018-03-26  980741.533611  564244.589547  389317.388176  869049.879908   \n",
       "2018-03-27  955594.314801  546571.926506  385611.295806  836200.636765   \n",
       "\n",
       "            Total Position  Daily Returns  \n",
       "Date                                       \n",
       "2012-01-03    1.000000e+06            NaN  \n",
       "2012-01-04    1.002996e+06       0.002996  \n",
       "2012-01-05    1.003760e+06       0.000761  \n",
       "2012-01-06    1.004437e+06       0.000675  \n",
       "2012-01-09    1.000935e+06      -0.003487  \n",
       "...                    ...            ...  \n",
       "2018-03-21    2.820990e+06      -0.008665  \n",
       "2018-03-22    2.758577e+06      -0.022125  \n",
       "2018-03-23    2.692850e+06      -0.023826  \n",
       "2018-03-26    2.803353e+06       0.041036  \n",
       "2018-03-27    2.723978e+06      -0.028314  \n",
       "\n",
       "[1567 rows x 6 columns]"
      ]
     },
     "execution_count": 18,
     "metadata": {},
     "output_type": "execute_result"
    }
   ],
   "source": [
    "port_val"
   ]
  },
  {
   "cell_type": "code",
   "execution_count": 19,
   "metadata": {},
   "outputs": [
    {
     "data": {
      "text/html": [
       "<div>\n",
       "<style scoped>\n",
       "    .dataframe tbody tr th:only-of-type {\n",
       "        vertical-align: middle;\n",
       "    }\n",
       "\n",
       "    .dataframe tbody tr th {\n",
       "        vertical-align: top;\n",
       "    }\n",
       "\n",
       "    .dataframe thead th {\n",
       "        text-align: right;\n",
       "    }\n",
       "</style>\n",
       "<table border=\"1\" class=\"dataframe\">\n",
       "  <thead>\n",
       "    <tr style=\"text-align: right;\">\n",
       "      <th></th>\n",
       "      <th>AAPL Pos Vals</th>\n",
       "      <th>CSCO Pos Vals</th>\n",
       "      <th>IBM Pos Vals</th>\n",
       "      <th>AMZN Pos Vals</th>\n",
       "      <th>Total Position</th>\n",
       "      <th>Daily Returns</th>\n",
       "    </tr>\n",
       "    <tr>\n",
       "      <th>Date</th>\n",
       "      <th></th>\n",
       "      <th></th>\n",
       "      <th></th>\n",
       "      <th></th>\n",
       "      <th></th>\n",
       "      <th></th>\n",
       "    </tr>\n",
       "  </thead>\n",
       "  <tbody>\n",
       "    <tr>\n",
       "      <th>2012-01-03</th>\n",
       "      <td>300000.000000</td>\n",
       "      <td>200000.000000</td>\n",
       "      <td>400000.000000</td>\n",
       "      <td>100000.000000</td>\n",
       "      <td>1.000000e+06</td>\n",
       "      <td>NaN</td>\n",
       "    </tr>\n",
       "    <tr>\n",
       "      <th>2012-01-04</th>\n",
       "      <td>301612.236461</td>\n",
       "      <td>203864.734300</td>\n",
       "      <td>398368.223296</td>\n",
       "      <td>99150.980283</td>\n",
       "      <td>1.002996e+06</td>\n",
       "      <td>0.002996</td>\n",
       "    </tr>\n",
       "    <tr>\n",
       "      <th>2012-01-05</th>\n",
       "      <td>304960.727573</td>\n",
       "      <td>203113.258186</td>\n",
       "      <td>396478.797638</td>\n",
       "      <td>99206.836843</td>\n",
       "      <td>1.003760e+06</td>\n",
       "      <td>0.000761</td>\n",
       "    </tr>\n",
       "    <tr>\n",
       "      <th>2012-01-06</th>\n",
       "      <td>308148.724558</td>\n",
       "      <td>202361.782072</td>\n",
       "      <td>391926.999463</td>\n",
       "      <td>101999.664861</td>\n",
       "      <td>1.004437e+06</td>\n",
       "      <td>0.000675</td>\n",
       "    </tr>\n",
       "    <tr>\n",
       "      <th>2012-01-09</th>\n",
       "      <td>307659.946988</td>\n",
       "      <td>203650.026838</td>\n",
       "      <td>389887.278583</td>\n",
       "      <td>99737.474166</td>\n",
       "      <td>1.000935e+06</td>\n",
       "      <td>-0.003487</td>\n",
       "    </tr>\n",
       "    <tr>\n",
       "      <th>...</th>\n",
       "      <td>...</td>\n",
       "      <td>...</td>\n",
       "      <td>...</td>\n",
       "      <td>...</td>\n",
       "      <td>...</td>\n",
       "      <td>...</td>\n",
       "    </tr>\n",
       "    <tr>\n",
       "      <th>2018-03-21</th>\n",
       "      <td>972226.673969</td>\n",
       "      <td>567446.158939</td>\n",
       "      <td>397744.940688</td>\n",
       "      <td>883572.585600</td>\n",
       "      <td>2.820990e+06</td>\n",
       "      <td>-0.008665</td>\n",
       "    </tr>\n",
       "    <tr>\n",
       "      <th>2018-03-22</th>\n",
       "      <td>958460.984214</td>\n",
       "      <td>551566.374757</td>\n",
       "      <td>386068.211304</td>\n",
       "      <td>862481.148411</td>\n",
       "      <td>2.758577e+06</td>\n",
       "      <td>-0.022125</td>\n",
       "    </tr>\n",
       "    <tr>\n",
       "      <th>2018-03-23</th>\n",
       "      <td>936293.966278</td>\n",
       "      <td>543242.294339</td>\n",
       "      <td>377945.269124</td>\n",
       "      <td>835368.374016</td>\n",
       "      <td>2.692850e+06</td>\n",
       "      <td>-0.023826</td>\n",
       "    </tr>\n",
       "    <tr>\n",
       "      <th>2018-03-26</th>\n",
       "      <td>980741.533611</td>\n",
       "      <td>564244.589547</td>\n",
       "      <td>389317.388176</td>\n",
       "      <td>869049.879908</td>\n",
       "      <td>2.803353e+06</td>\n",
       "      <td>0.041036</td>\n",
       "    </tr>\n",
       "    <tr>\n",
       "      <th>2018-03-27</th>\n",
       "      <td>955594.314801</td>\n",
       "      <td>546571.926506</td>\n",
       "      <td>385611.295806</td>\n",
       "      <td>836200.636765</td>\n",
       "      <td>2.723978e+06</td>\n",
       "      <td>-0.028314</td>\n",
       "    </tr>\n",
       "  </tbody>\n",
       "</table>\n",
       "<p>1567 rows × 6 columns</p>\n",
       "</div>"
      ],
      "text/plain": [
       "            AAPL Pos Vals  CSCO Pos Vals   IBM Pos Vals  AMZN Pos Vals  \\\n",
       "Date                                                                     \n",
       "2012-01-03  300000.000000  200000.000000  400000.000000  100000.000000   \n",
       "2012-01-04  301612.236461  203864.734300  398368.223296   99150.980283   \n",
       "2012-01-05  304960.727573  203113.258186  396478.797638   99206.836843   \n",
       "2012-01-06  308148.724558  202361.782072  391926.999463  101999.664861   \n",
       "2012-01-09  307659.946988  203650.026838  389887.278583   99737.474166   \n",
       "...                   ...            ...            ...            ...   \n",
       "2018-03-21  972226.673969  567446.158939  397744.940688  883572.585600   \n",
       "2018-03-22  958460.984214  551566.374757  386068.211304  862481.148411   \n",
       "2018-03-23  936293.966278  543242.294339  377945.269124  835368.374016   \n",
       "2018-03-26  980741.533611  564244.589547  389317.388176  869049.879908   \n",
       "2018-03-27  955594.314801  546571.926506  385611.295806  836200.636765   \n",
       "\n",
       "            Total Position  Daily Returns  \n",
       "Date                                       \n",
       "2012-01-03    1.000000e+06            NaN  \n",
       "2012-01-04    1.002996e+06       0.002996  \n",
       "2012-01-05    1.003760e+06       0.000761  \n",
       "2012-01-06    1.004437e+06       0.000675  \n",
       "2012-01-09    1.000935e+06      -0.003487  \n",
       "...                    ...            ...  \n",
       "2018-03-21    2.820990e+06      -0.008665  \n",
       "2018-03-22    2.758577e+06      -0.022125  \n",
       "2018-03-23    2.692850e+06      -0.023826  \n",
       "2018-03-26    2.803353e+06       0.041036  \n",
       "2018-03-27    2.723978e+06      -0.028314  \n",
       "\n",
       "[1567 rows x 6 columns]"
      ]
     },
     "execution_count": 19,
     "metadata": {},
     "output_type": "execute_result"
    }
   ],
   "source": [
    "port_val"
   ]
  },
  {
   "cell_type": "code",
   "execution_count": 20,
   "metadata": {},
   "outputs": [
    {
     "data": {
      "text/plain": [
       "AAPL Pos Vals     0.000864\n",
       "CSCO Pos Vals     0.000738\n",
       "IBM Pos Vals      0.000045\n",
       "AMZN Pos Vals     0.001528\n",
       "Total Position    0.000694\n",
       "Daily Returns          inf\n",
       "dtype: float64"
      ]
     },
     "execution_count": 20,
     "metadata": {},
     "output_type": "execute_result"
    }
   ],
   "source": [
    "port_val.pct_change(1).mean()"
   ]
  },
  {
   "cell_type": "code",
   "execution_count": 21,
   "metadata": {},
   "outputs": [
    {
     "data": {
      "text/plain": [
       "AAPL Pos Vals    0.000864\n",
       "CSCO Pos Vals    0.000738\n",
       "IBM Pos Vals     0.000045\n",
       "AMZN Pos Vals    0.001528\n",
       "dtype: float64"
      ]
     },
     "execution_count": 21,
     "metadata": {},
     "output_type": "execute_result"
    }
   ],
   "source": [
    "port_val.loc[:,'AAPL Pos Vals':'AMZN Pos Vals'].pct_change(1).mean()"
   ]
  },
  {
   "cell_type": "code",
   "execution_count": 22,
   "metadata": {},
   "outputs": [],
   "source": [
    "import numpy as np\n",
    "\n",
    "log_ret = np.log(port_val.loc[:,'AAPL Pos Vals':'AMZN Pos Vals']/port_val.loc[:,'AAPL Pos Vals':'AMZN Pos Vals'].shift(1))"
   ]
  },
  {
   "cell_type": "code",
   "execution_count": 23,
   "metadata": {},
   "outputs": [
    {
     "data": {
      "text/html": [
       "<div>\n",
       "<style scoped>\n",
       "    .dataframe tbody tr th:only-of-type {\n",
       "        vertical-align: middle;\n",
       "    }\n",
       "\n",
       "    .dataframe tbody tr th {\n",
       "        vertical-align: top;\n",
       "    }\n",
       "\n",
       "    .dataframe thead th {\n",
       "        text-align: right;\n",
       "    }\n",
       "</style>\n",
       "<table border=\"1\" class=\"dataframe\">\n",
       "  <thead>\n",
       "    <tr style=\"text-align: right;\">\n",
       "      <th></th>\n",
       "      <th>AAPL Pos Vals</th>\n",
       "      <th>CSCO Pos Vals</th>\n",
       "      <th>IBM Pos Vals</th>\n",
       "      <th>AMZN Pos Vals</th>\n",
       "    </tr>\n",
       "    <tr>\n",
       "      <th>Date</th>\n",
       "      <th></th>\n",
       "      <th></th>\n",
       "      <th></th>\n",
       "      <th></th>\n",
       "    </tr>\n",
       "  </thead>\n",
       "  <tbody>\n",
       "    <tr>\n",
       "      <th>2012-01-03</th>\n",
       "      <td>NaN</td>\n",
       "      <td>NaN</td>\n",
       "      <td>NaN</td>\n",
       "      <td>NaN</td>\n",
       "    </tr>\n",
       "    <tr>\n",
       "      <th>2012-01-04</th>\n",
       "      <td>0.005360</td>\n",
       "      <td>0.019139</td>\n",
       "      <td>-0.004088</td>\n",
       "      <td>-0.008526</td>\n",
       "    </tr>\n",
       "    <tr>\n",
       "      <th>2012-01-05</th>\n",
       "      <td>0.011041</td>\n",
       "      <td>-0.003693</td>\n",
       "      <td>-0.004754</td>\n",
       "      <td>0.000563</td>\n",
       "    </tr>\n",
       "    <tr>\n",
       "      <th>2012-01-06</th>\n",
       "      <td>0.010400</td>\n",
       "      <td>-0.003707</td>\n",
       "      <td>-0.011547</td>\n",
       "      <td>0.027763</td>\n",
       "    </tr>\n",
       "    <tr>\n",
       "      <th>2012-01-09</th>\n",
       "      <td>-0.001587</td>\n",
       "      <td>0.006346</td>\n",
       "      <td>-0.005218</td>\n",
       "      <td>-0.022428</td>\n",
       "    </tr>\n",
       "    <tr>\n",
       "      <th>...</th>\n",
       "      <td>...</td>\n",
       "      <td>...</td>\n",
       "      <td>...</td>\n",
       "      <td>...</td>\n",
       "    </tr>\n",
       "    <tr>\n",
       "      <th>2018-03-21</th>\n",
       "      <td>-0.022915</td>\n",
       "      <td>-0.001353</td>\n",
       "      <td>0.003132</td>\n",
       "      <td>-0.002935</td>\n",
       "    </tr>\n",
       "    <tr>\n",
       "      <th>2018-03-22</th>\n",
       "      <td>-0.014260</td>\n",
       "      <td>-0.028384</td>\n",
       "      <td>-0.029797</td>\n",
       "      <td>-0.024160</td>\n",
       "    </tr>\n",
       "    <tr>\n",
       "      <th>2018-03-23</th>\n",
       "      <td>-0.023399</td>\n",
       "      <td>-0.015207</td>\n",
       "      <td>-0.021265</td>\n",
       "      <td>-0.031940</td>\n",
       "    </tr>\n",
       "    <tr>\n",
       "      <th>2018-03-26</th>\n",
       "      <td>0.046379</td>\n",
       "      <td>0.037932</td>\n",
       "      <td>0.029646</td>\n",
       "      <td>0.039528</td>\n",
       "    </tr>\n",
       "    <tr>\n",
       "      <th>2018-03-27</th>\n",
       "      <td>-0.025975</td>\n",
       "      <td>-0.031822</td>\n",
       "      <td>-0.009565</td>\n",
       "      <td>-0.038532</td>\n",
       "    </tr>\n",
       "  </tbody>\n",
       "</table>\n",
       "<p>1567 rows × 4 columns</p>\n",
       "</div>"
      ],
      "text/plain": [
       "            AAPL Pos Vals  CSCO Pos Vals  IBM Pos Vals  AMZN Pos Vals\n",
       "Date                                                                 \n",
       "2012-01-03            NaN            NaN           NaN            NaN\n",
       "2012-01-04       0.005360       0.019139     -0.004088      -0.008526\n",
       "2012-01-05       0.011041      -0.003693     -0.004754       0.000563\n",
       "2012-01-06       0.010400      -0.003707     -0.011547       0.027763\n",
       "2012-01-09      -0.001587       0.006346     -0.005218      -0.022428\n",
       "...                   ...            ...           ...            ...\n",
       "2018-03-21      -0.022915      -0.001353      0.003132      -0.002935\n",
       "2018-03-22      -0.014260      -0.028384     -0.029797      -0.024160\n",
       "2018-03-23      -0.023399      -0.015207     -0.021265      -0.031940\n",
       "2018-03-26       0.046379       0.037932      0.029646       0.039528\n",
       "2018-03-27      -0.025975      -0.031822     -0.009565      -0.038532\n",
       "\n",
       "[1567 rows x 4 columns]"
      ]
     },
     "execution_count": 23,
     "metadata": {},
     "output_type": "execute_result"
    }
   ],
   "source": [
    "log_ret"
   ]
  },
  {
   "cell_type": "code",
   "execution_count": 24,
   "metadata": {},
   "outputs": [
    {
     "data": {
      "text/plain": [
       "AAPL Pos Vals    0.000726\n",
       "IBM Pos Vals    -0.036635\n",
       "dtype: float64"
      ]
     },
     "execution_count": 24,
     "metadata": {},
     "output_type": "execute_result"
    }
   ],
   "source": [
    "log_ret.agg({\"AAPL Pos Vals\": np.mean,\"IBM Pos Vals\": np.sum})"
   ]
  },
  {
   "cell_type": "code",
   "execution_count": 25,
   "metadata": {},
   "outputs": [],
   "source": [
    "weights = np.array(np.random.random(4))\n",
    "weights = np.array([x/sum(weights) for x in weights])"
   ]
  },
  {
   "cell_type": "code",
   "execution_count": 26,
   "metadata": {},
   "outputs": [],
   "source": [
    "exp_return = np.sum( (log_ret.mean() * weights)* 252)"
   ]
  },
  {
   "cell_type": "code",
   "execution_count": 27,
   "metadata": {},
   "outputs": [
    {
     "data": {
      "text/plain": [
       "0.18675436654733052"
      ]
     },
     "execution_count": 27,
     "metadata": {},
     "output_type": "execute_result"
    }
   ],
   "source": [
    "exp_return"
   ]
  },
  {
   "cell_type": "code",
   "execution_count": 28,
   "metadata": {},
   "outputs": [],
   "source": [
    "exp_volatility = np.sqrt(np.dot(weights.T,np.dot(log_ret.cov()*252,weights)))"
   ]
  },
  {
   "cell_type": "code",
   "execution_count": 29,
   "metadata": {},
   "outputs": [
    {
     "data": {
      "text/plain": [
       "0.16964303446780013"
      ]
     },
     "execution_count": 29,
     "metadata": {},
     "output_type": "execute_result"
    }
   ],
   "source": [
    "exp_volatility"
   ]
  },
  {
   "cell_type": "code",
   "execution_count": 30,
   "metadata": {},
   "outputs": [],
   "source": [
    "SR = exp_return/exp_volatility"
   ]
  },
  {
   "cell_type": "code",
   "execution_count": 31,
   "metadata": {},
   "outputs": [
    {
     "data": {
      "text/plain": [
       "1.1008666941923766"
      ]
     },
     "execution_count": 31,
     "metadata": {},
     "output_type": "execute_result"
    }
   ],
   "source": [
    "SR"
   ]
  },
  {
   "cell_type": "code",
   "execution_count": 32,
   "metadata": {},
   "outputs": [],
   "source": [
    "weights_array = pd.DataFrame(np.array(np.random.rand(1000,4)))"
   ]
  },
  {
   "cell_type": "code",
   "execution_count": 33,
   "metadata": {},
   "outputs": [
    {
     "data": {
      "text/html": [
       "<div>\n",
       "<style scoped>\n",
       "    .dataframe tbody tr th:only-of-type {\n",
       "        vertical-align: middle;\n",
       "    }\n",
       "\n",
       "    .dataframe tbody tr th {\n",
       "        vertical-align: top;\n",
       "    }\n",
       "\n",
       "    .dataframe thead th {\n",
       "        text-align: right;\n",
       "    }\n",
       "</style>\n",
       "<table border=\"1\" class=\"dataframe\">\n",
       "  <thead>\n",
       "    <tr style=\"text-align: right;\">\n",
       "      <th></th>\n",
       "      <th>0</th>\n",
       "      <th>1</th>\n",
       "      <th>2</th>\n",
       "      <th>3</th>\n",
       "    </tr>\n",
       "  </thead>\n",
       "  <tbody>\n",
       "    <tr>\n",
       "      <th>0</th>\n",
       "      <td>0.538180</td>\n",
       "      <td>0.247971</td>\n",
       "      <td>0.919636</td>\n",
       "      <td>0.932248</td>\n",
       "    </tr>\n",
       "    <tr>\n",
       "      <th>1</th>\n",
       "      <td>0.093084</td>\n",
       "      <td>0.973112</td>\n",
       "      <td>0.285371</td>\n",
       "      <td>0.481462</td>\n",
       "    </tr>\n",
       "    <tr>\n",
       "      <th>2</th>\n",
       "      <td>0.010522</td>\n",
       "      <td>0.586599</td>\n",
       "      <td>0.650797</td>\n",
       "      <td>0.016600</td>\n",
       "    </tr>\n",
       "    <tr>\n",
       "      <th>3</th>\n",
       "      <td>0.772101</td>\n",
       "      <td>0.485094</td>\n",
       "      <td>0.239854</td>\n",
       "      <td>0.860840</td>\n",
       "    </tr>\n",
       "    <tr>\n",
       "      <th>4</th>\n",
       "      <td>0.643774</td>\n",
       "      <td>0.629047</td>\n",
       "      <td>0.457908</td>\n",
       "      <td>0.710146</td>\n",
       "    </tr>\n",
       "    <tr>\n",
       "      <th>...</th>\n",
       "      <td>...</td>\n",
       "      <td>...</td>\n",
       "      <td>...</td>\n",
       "      <td>...</td>\n",
       "    </tr>\n",
       "    <tr>\n",
       "      <th>995</th>\n",
       "      <td>0.719075</td>\n",
       "      <td>0.193645</td>\n",
       "      <td>0.285925</td>\n",
       "      <td>0.238994</td>\n",
       "    </tr>\n",
       "    <tr>\n",
       "      <th>996</th>\n",
       "      <td>0.665610</td>\n",
       "      <td>0.008558</td>\n",
       "      <td>0.222301</td>\n",
       "      <td>0.253284</td>\n",
       "    </tr>\n",
       "    <tr>\n",
       "      <th>997</th>\n",
       "      <td>0.277105</td>\n",
       "      <td>0.590525</td>\n",
       "      <td>0.277773</td>\n",
       "      <td>0.732011</td>\n",
       "    </tr>\n",
       "    <tr>\n",
       "      <th>998</th>\n",
       "      <td>0.748440</td>\n",
       "      <td>0.132988</td>\n",
       "      <td>0.452166</td>\n",
       "      <td>0.333559</td>\n",
       "    </tr>\n",
       "    <tr>\n",
       "      <th>999</th>\n",
       "      <td>0.891995</td>\n",
       "      <td>0.120040</td>\n",
       "      <td>0.521749</td>\n",
       "      <td>0.329973</td>\n",
       "    </tr>\n",
       "  </tbody>\n",
       "</table>\n",
       "<p>1000 rows × 4 columns</p>\n",
       "</div>"
      ],
      "text/plain": [
       "            0         1         2         3\n",
       "0    0.538180  0.247971  0.919636  0.932248\n",
       "1    0.093084  0.973112  0.285371  0.481462\n",
       "2    0.010522  0.586599  0.650797  0.016600\n",
       "3    0.772101  0.485094  0.239854  0.860840\n",
       "4    0.643774  0.629047  0.457908  0.710146\n",
       "..        ...       ...       ...       ...\n",
       "995  0.719075  0.193645  0.285925  0.238994\n",
       "996  0.665610  0.008558  0.222301  0.253284\n",
       "997  0.277105  0.590525  0.277773  0.732011\n",
       "998  0.748440  0.132988  0.452166  0.333559\n",
       "999  0.891995  0.120040  0.521749  0.329973\n",
       "\n",
       "[1000 rows x 4 columns]"
      ]
     },
     "execution_count": 33,
     "metadata": {},
     "output_type": "execute_result"
    }
   ],
   "source": [
    "weights_array"
   ]
  },
  {
   "cell_type": "code",
   "execution_count": null,
   "metadata": {},
   "outputs": [],
   "source": []
  },
  {
   "cell_type": "code",
   "execution_count": 34,
   "metadata": {},
   "outputs": [],
   "source": [
    "weights_array = pd.DataFrame(np.array(np.random.rand(5000,4)))\n",
    "results_array = pd.DataFrame(np.ones((1000,7)))\n",
    "results_array.columns = [\"AAPL\",\"CSCO\",\"IBM\",\"AMZN\", \"Returns\",\"Volatility\",\"Sharpe\"]\n",
    "\n",
    "for index, row in weights_array.iterrows():\n",
    "    \n",
    "    weights = np.array([x/sum(row) for x in row])\n",
    "    exp_volatility = np.sqrt(np.dot(weights.T,np.dot(log_ret.cov()*252,weights)))\n",
    "    exp_return = np.sum( (log_ret.mean() * weights)* 252)\n",
    "    results_array.loc[index,'AAPL'] = weights[0]\n",
    "    results_array.loc[index,'CSCO'] =weights[1]\n",
    "    results_array.loc[index,'IBM'] =weights[2]\n",
    "    results_array.loc[index,'AMZN'] =weights[3]\n",
    "    results_array.loc[index,'Returns'] = exp_return\n",
    "    results_array.loc[index,'Volatility'] = exp_volatility\n",
    "    results_array.loc[index,'Sharpe'] = exp_return/exp_volatility\n",
    "    "
   ]
  },
  {
   "cell_type": "code",
   "execution_count": 35,
   "metadata": {},
   "outputs": [
    {
     "data": {
      "text/html": [
       "<div>\n",
       "<style scoped>\n",
       "    .dataframe tbody tr th:only-of-type {\n",
       "        vertical-align: middle;\n",
       "    }\n",
       "\n",
       "    .dataframe tbody tr th {\n",
       "        vertical-align: top;\n",
       "    }\n",
       "\n",
       "    .dataframe thead th {\n",
       "        text-align: right;\n",
       "    }\n",
       "</style>\n",
       "<table border=\"1\" class=\"dataframe\">\n",
       "  <thead>\n",
       "    <tr style=\"text-align: right;\">\n",
       "      <th></th>\n",
       "      <th>AAPL</th>\n",
       "      <th>CSCO</th>\n",
       "      <th>IBM</th>\n",
       "      <th>AMZN</th>\n",
       "      <th>Returns</th>\n",
       "      <th>Volatility</th>\n",
       "      <th>Sharpe</th>\n",
       "    </tr>\n",
       "  </thead>\n",
       "  <tbody>\n",
       "    <tr>\n",
       "      <th>943</th>\n",
       "      <td>0.247637</td>\n",
       "      <td>0.207669</td>\n",
       "      <td>0.005401</td>\n",
       "      <td>0.539293</td>\n",
       "      <td>0.263199</td>\n",
       "      <td>0.205735</td>\n",
       "      <td>1.279312</td>\n",
       "    </tr>\n",
       "    <tr>\n",
       "      <th>3947</th>\n",
       "      <td>0.280054</td>\n",
       "      <td>0.232966</td>\n",
       "      <td>0.004790</td>\n",
       "      <td>0.482190</td>\n",
       "      <td>0.253706</td>\n",
       "      <td>0.198638</td>\n",
       "      <td>1.277230</td>\n",
       "    </tr>\n",
       "    <tr>\n",
       "      <th>1299</th>\n",
       "      <td>0.304156</td>\n",
       "      <td>0.164154</td>\n",
       "      <td>0.000444</td>\n",
       "      <td>0.531246</td>\n",
       "      <td>0.263776</td>\n",
       "      <td>0.206736</td>\n",
       "      <td>1.275905</td>\n",
       "    </tr>\n",
       "    <tr>\n",
       "      <th>1327</th>\n",
       "      <td>0.295029</td>\n",
       "      <td>0.186196</td>\n",
       "      <td>0.009106</td>\n",
       "      <td>0.509669</td>\n",
       "      <td>0.258246</td>\n",
       "      <td>0.202744</td>\n",
       "      <td>1.273751</td>\n",
       "    </tr>\n",
       "    <tr>\n",
       "      <th>1638</th>\n",
       "      <td>0.278021</td>\n",
       "      <td>0.200211</td>\n",
       "      <td>0.016023</td>\n",
       "      <td>0.505745</td>\n",
       "      <td>0.256020</td>\n",
       "      <td>0.201225</td>\n",
       "      <td>1.272310</td>\n",
       "    </tr>\n",
       "    <tr>\n",
       "      <th>...</th>\n",
       "      <td>...</td>\n",
       "      <td>...</td>\n",
       "      <td>...</td>\n",
       "      <td>...</td>\n",
       "      <td>...</td>\n",
       "      <td>...</td>\n",
       "      <td>...</td>\n",
       "    </tr>\n",
       "    <tr>\n",
       "      <th>1234</th>\n",
       "      <td>0.024275</td>\n",
       "      <td>0.160296</td>\n",
       "      <td>0.776374</td>\n",
       "      <td>0.039055</td>\n",
       "      <td>0.039145</td>\n",
       "      <td>0.168073</td>\n",
       "      <td>0.232907</td>\n",
       "    </tr>\n",
       "    <tr>\n",
       "      <th>123</th>\n",
       "      <td>0.027149</td>\n",
       "      <td>0.141690</td>\n",
       "      <td>0.791099</td>\n",
       "      <td>0.040063</td>\n",
       "      <td>0.036919</td>\n",
       "      <td>0.168700</td>\n",
       "      <td>0.218842</td>\n",
       "    </tr>\n",
       "    <tr>\n",
       "      <th>2948</th>\n",
       "      <td>0.014671</td>\n",
       "      <td>0.168551</td>\n",
       "      <td>0.789404</td>\n",
       "      <td>0.027374</td>\n",
       "      <td>0.034655</td>\n",
       "      <td>0.169495</td>\n",
       "      <td>0.204460</td>\n",
       "    </tr>\n",
       "    <tr>\n",
       "      <th>2252</th>\n",
       "      <td>0.093658</td>\n",
       "      <td>0.047079</td>\n",
       "      <td>0.834215</td>\n",
       "      <td>0.025048</td>\n",
       "      <td>0.028392</td>\n",
       "      <td>0.170476</td>\n",
       "      <td>0.166542</td>\n",
       "    </tr>\n",
       "    <tr>\n",
       "      <th>296</th>\n",
       "      <td>0.021453</td>\n",
       "      <td>0.133050</td>\n",
       "      <td>0.836608</td>\n",
       "      <td>0.008889</td>\n",
       "      <td>0.023555</td>\n",
       "      <td>0.172468</td>\n",
       "      <td>0.136578</td>\n",
       "    </tr>\n",
       "  </tbody>\n",
       "</table>\n",
       "<p>5000 rows × 7 columns</p>\n",
       "</div>"
      ],
      "text/plain": [
       "          AAPL      CSCO       IBM      AMZN   Returns  Volatility    Sharpe\n",
       "943   0.247637  0.207669  0.005401  0.539293  0.263199    0.205735  1.279312\n",
       "3947  0.280054  0.232966  0.004790  0.482190  0.253706    0.198638  1.277230\n",
       "1299  0.304156  0.164154  0.000444  0.531246  0.263776    0.206736  1.275905\n",
       "1327  0.295029  0.186196  0.009106  0.509669  0.258246    0.202744  1.273751\n",
       "1638  0.278021  0.200211  0.016023  0.505745  0.256020    0.201225  1.272310\n",
       "...        ...       ...       ...       ...       ...         ...       ...\n",
       "1234  0.024275  0.160296  0.776374  0.039055  0.039145    0.168073  0.232907\n",
       "123   0.027149  0.141690  0.791099  0.040063  0.036919    0.168700  0.218842\n",
       "2948  0.014671  0.168551  0.789404  0.027374  0.034655    0.169495  0.204460\n",
       "2252  0.093658  0.047079  0.834215  0.025048  0.028392    0.170476  0.166542\n",
       "296   0.021453  0.133050  0.836608  0.008889  0.023555    0.172468  0.136578\n",
       "\n",
       "[5000 rows x 7 columns]"
      ]
     },
     "execution_count": 35,
     "metadata": {},
     "output_type": "execute_result"
    }
   ],
   "source": [
    "results_array.sort_values(by='Sharpe', ascending = False)"
   ]
  },
  {
   "cell_type": "code",
   "execution_count": 36,
   "metadata": {},
   "outputs": [
    {
     "data": {
      "text/plain": [
       "1.2793121362015925"
      ]
     },
     "execution_count": 36,
     "metadata": {},
     "output_type": "execute_result"
    }
   ],
   "source": [
    "results_array.Sharpe.max()"
   ]
  },
  {
   "cell_type": "code",
   "execution_count": 37,
   "metadata": {},
   "outputs": [
    {
     "data": {
      "text/plain": [
       "<matplotlib.collections.PathCollection at 0x1c525096a90>"
      ]
     },
     "execution_count": 37,
     "metadata": {},
     "output_type": "execute_result"
    },
    {
     "data": {
      "image/png": "[encoded data removed]",
      "text/plain": [
       "<Figure size 864x576 with 2 Axes>"
      ]
     },
     "metadata": {
      "needs_background": "light"
     },
     "output_type": "display_data"
    }
   ],
   "source": [
    "plt.figure(figsize=(12,8))\n",
    "plt.scatter(results_array.Volatility,results_array.Returns,c=results_array.Sharpe,cmap='plasma')\n",
    "plt.colorbar(label='Sharpe Ratio')\n",
    "plt.xlabel('Volatility')\n",
    "plt.ylabel('Returns')\n",
    "\n",
    "plt.scatter(results_array.Volatility[results_array.Sharpe.argmax()],results_array.Returns[results_array.Sharpe.argmax()],c='black',s=60) #Max Sharp Ratio"
   ]
  },
  {
   "cell_type": "code",
   "execution_count": 38,
   "metadata": {},
   "outputs": [],
   "source": [
    "def get_ret_vol_sr(weights):\n",
    "    weights = np.array(weights)\n",
    "    ret = np.sum(log_ret.mean() * weights) * 252\n",
    "    vol = np.sqrt(np.dot(weights.T,np.dot(log_ret.cov()*252,weights)))\n",
    "    sr = ret / vol\n",
    "    return np.array([ret,vol,sr])\n"
   ]
  },
  {
   "cell_type": "code",
   "execution_count": 39,
   "metadata": {},
   "outputs": [],
   "source": [
    "from scipy.optimize import minimize\n",
    "\n"
   ]
  },
  {
   "cell_type": "code",
   "execution_count": 40,
   "metadata": {},
   "outputs": [],
   "source": [
    "def neg_sharpe(weights):\n",
    "    return get_ret_vol_sr(weights)[2]*-1"
   ]
  },
  {
   "cell_type": "code",
   "execution_count": 41,
   "metadata": {},
   "outputs": [],
   "source": [
    "def check_sum(weights):\n",
    "    return np.sum(weights) - 1"
   ]
  },
  {
   "cell_type": "code",
   "execution_count": 42,
   "metadata": {},
   "outputs": [],
   "source": [
    "cons = ({'type':'eq', 'fun':check_sum})"
   ]
  },
  {
   "cell_type": "code",
   "execution_count": 43,
   "metadata": {},
   "outputs": [],
   "source": [
    "bounds = ((0,1),(0,1),(0,1),(0,1))"
   ]
  },
  {
   "cell_type": "code",
   "execution_count": 44,
   "metadata": {},
   "outputs": [],
   "source": [
    "init_guess = [0.25,0.25,0.25,0.25]"
   ]
  },
  {
   "cell_type": "code",
   "execution_count": 45,
   "metadata": {},
   "outputs": [],
   "source": [
    "opt_results = minimize(neg_sharpe,init_guess,method ='SLSQP',bounds=bounds,constraints = cons)"
   ]
  },
  {
   "cell_type": "code",
   "execution_count": 46,
   "metadata": {},
   "outputs": [
    {
     "data": {
      "text/plain": [
       "     fun: -1.2828472170981198\n",
       "     jac: array([-0.00072455, -0.00049011,  0.47258657,  0.0005457 ])\n",
       " message: 'Optimization terminated successfully'\n",
       "    nfev: 31\n",
       "     nit: 6\n",
       "    njev: 6\n",
       "  status: 0\n",
       " success: True\n",
       "       x: array([0.22984623, 0.24494367, 0.        , 0.5252101 ])"
      ]
     },
     "execution_count": 46,
     "metadata": {},
     "output_type": "execute_result"
    }
   ],
   "source": [
    "opt_results"
   ]
  },
  {
   "cell_type": "code",
   "execution_count": 47,
   "metadata": {},
   "outputs": [
    {
     "data": {
      "text/plain": [
       "array([0.22984623, 0.24494367, 0.        , 0.5252101 ])"
      ]
     },
     "execution_count": 47,
     "metadata": {},
     "output_type": "execute_result"
    }
   ],
   "source": [
    "opt_results.x"
   ]
  },
  {
   "cell_type": "code",
   "execution_count": 48,
   "metadata": {},
   "outputs": [
    {
     "data": {
      "text/plain": [
       "array([0.261193  , 0.20360414, 1.28284722])"
      ]
     },
     "execution_count": 48,
     "metadata": {},
     "output_type": "execute_result"
    }
   ],
   "source": [
    "get_ret_vol_sr(opt_results.x)"
   ]
  },
  {
   "cell_type": "code",
   "execution_count": 49,
   "metadata": {},
   "outputs": [],
   "source": [
    "frontier_y = np.linspace(0,0.3,100)"
   ]
  },
  {
   "cell_type": "code",
   "execution_count": 50,
   "metadata": {},
   "outputs": [],
   "source": [
    "def minimize_volatility(weights):\n",
    "    return get_ret_vol_sr(weights)[1]"
   ]
  },
  {
   "cell_type": "code",
   "execution_count": 52,
   "metadata": {},
   "outputs": [],
   "source": [
    "frontier_volatility = []\n",
    "\n",
    "for possible_return in frontier_y:\n",
    "    cons = ({'type':'eq','fun':check_sum},{'type':'eq','fun': lambda w: get_ret_vol_sr(w)[0]-possible_return})\n",
    "    \n",
    "    result = minimize(minimize_volatility, init_guess, method='SLSQP',bounds = bounds, constraints=cons)\n",
    "    \n",
    "    frontier_volatility.append(result['fun'])\n",
    "    "
   ]
  },
  {
   "cell_type": "code",
   "execution_count": 54,
   "metadata": {},
   "outputs": [
    {
     "data": {
      "text/plain": [
       "     fun: 0.24082736907386912\n",
       "     jac: array([0.11058326, 0.08752508, 0.05729764, 0.28728781])\n",
       " message: 'Optimization terminated successfully'\n",
       "    nfev: 20\n",
       "     nit: 4\n",
       "    njev: 4\n",
       "  status: 0\n",
       " success: True\n",
       "       x: array([0.16550843, 0.08617398, 0.        , 0.74831759])"
      ]
     },
     "execution_count": 54,
     "metadata": {},
     "output_type": "execute_result"
    }
   ],
   "source": [
    "result"
   ]
  },
  {
   "cell_type": "code",
   "execution_count": null,
   "metadata": {},
   "outputs": [],
   "source": [
    "a = [1,2,3,4,5]\n"
   ]
  },
  {
   "cell_type": "code",
   "execution_count": null,
   "metadata": {},
   "outputs": [],
   "source": []
  }
 ],
 "metadata": {
  "kernelspec": {
   "display_name": "Python 3",
   "language": "python",
   "name": "python3"
  },
  "language_info": {
   "codemirror_mode": {
    "name": "ipython",
    "version": 3
   },
   "file_extension": ".py",
   "mimetype": "text/x-python",
   "name": "python",
   "nbconvert_exporter": "python",
   "pygments_lexer": "ipython3",
   "version": "3.8.5"
  }
 },
 "nbformat": 4,
 "nbformat_minor": 4
}
