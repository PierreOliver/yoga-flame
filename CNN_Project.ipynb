{
 "cells": [
  {
   "cell_type": "code",
   "execution_count": 15,
   "metadata": {},
   "outputs": [],
   "source": [
    "import matplotlib.pyplot as plt\n",
    "import numpy as np\n",
    "import pandas as pd\n",
    "import tensorflow as tf\n",
    "from tensorflow.keras.models import Sequential\n",
    "from tensorflow.keras.layers import Conv2D, Dropout, MaxPooling2D, Flatten, Dense, Input, MaxPool2D\n",
    "from tensorflow.keras.constraints import MaxNorm"
   ]
  },
  {
   "cell_type": "code",
   "execution_count": 33,
   "metadata": {},
   "outputs": [],
   "source": [
    "def getcsvdata(filename):\n",
    "    df = pd.DataFrame()\n",
    "    \n",
    "    df = pd.read_csv(filename)\n",
    "    \n",
    "    return df\n",
    "    \n",
    "tempdf = getcsvdata(\"fashion-mnist_train.csv\")\n",
    "\n",
    "X_train = tempdf.iloc[:,1:].to_numpy()\n",
    "y_train = tempdf.iloc[:,0].to_numpy()\n",
    "\n",
    "tempdf = getcsvdata(\"fashion-mnist_test.csv\")\n",
    "\n",
    "X_test = tempdf.iloc[:,1:].to_numpy()\n",
    "y_test = tempdf.iloc[:,0].to_numpy()\n",
    "\n",
    "X_train = X_train.reshape(-1,28,28)\n",
    "X_test = X_test.reshape(-1,28,28)\n",
    "\n",
    "mapping = {\n",
    "    0:\"T-shirt\",\n",
    "    1:\"Trouser\",\n",
    "    2:\"Pullover\",\n",
    "    3:\"Dress\",\n",
    "    4:\"Coat\",\n",
    "    5:\"Sandal\",\n",
    "    6:\"Shirt\",\n",
    "    7:\"Sneaker\",\n",
    "    8:\"Bag\",\n",
    "    9:\"Ankle Boot\"   \n",
    "    \n",
    "}\n"
   ]
  },
  {
   "cell_type": "code",
   "execution_count": 22,
   "metadata": {},
   "outputs": [],
   "source": [
    "model = Sequential([\n",
    "          Input(shape=(28,28,1)),\n",
    "          Conv2D(filters=16, kernel_size=(3,3), padding=\"same\", activation=\"relu\"),\n",
    "          MaxPool2D(pool_size=(2,2)),\n",
    "          Conv2D(filters=16, kernel_size=(3,3), padding=\"same\", activation=\"relu\"),\n",
    "          MaxPool2D(pool_size=(2, 2)),\n",
    "          Conv2D(filters=120, kernel_size=(3,3), padding=\"same\", activation=\"relu\"),\n",
    "          Flatten(),\n",
    "          Dense(units=84, activation=\"relu\"),\n",
    "          Dense(units=10, activation=\"softmax\"),\n",
    "      ])\n",
    " "
   ]
  },
  {
   "cell_type": "code",
   "execution_count": 23,
   "metadata": {},
   "outputs": [],
   "source": [
    "model.compile(optimizer=\"adam\",\n",
    "              loss=\"sparse_categorical_crossentropy\", \n",
    "              metrics=\"sparse_categorical_accuracy\")"
   ]
  },
  {
   "cell_type": "code",
   "execution_count": 24,
   "metadata": {},
   "outputs": [
    {
     "name": "stdout",
     "output_type": "stream",
     "text": [
      "Model: \"sequential_2\"\n",
      "_________________________________________________________________\n",
      " Layer (type)                Output Shape              Param #   \n",
      "=================================================================\n",
      " conv2d_6 (Conv2D)           (None, 28, 28, 16)        160       \n",
      "                                                                 \n",
      " max_pooling2d_4 (MaxPooling  (None, 14, 14, 16)       0         \n",
      " 2D)                                                             \n",
      "                                                                 \n",
      " conv2d_7 (Conv2D)           (None, 14, 14, 16)        2320      \n",
      "                                                                 \n",
      " max_pooling2d_5 (MaxPooling  (None, 7, 7, 16)         0         \n",
      " 2D)                                                             \n",
      "                                                                 \n",
      " conv2d_8 (Conv2D)           (None, 7, 7, 120)         17400     \n",
      "                                                                 \n",
      " flatten_2 (Flatten)         (None, 5880)              0         \n",
      "                                                                 \n",
      " dense_4 (Dense)             (None, 84)                494004    \n",
      "                                                                 \n",
      " dense_5 (Dense)             (None, 10)                850       \n",
      "                                                                 \n",
      "=================================================================\n",
      "Total params: 514,734\n",
      "Trainable params: 514,734\n",
      "Non-trainable params: 0\n",
      "_________________________________________________________________\n"
     ]
    }
   ],
   "source": [
    "model.summary()"
   ]
  },
  {
   "cell_type": "code",
   "execution_count": 25,
   "metadata": {},
   "outputs": [
    {
     "name": "stdout",
     "output_type": "stream",
     "text": [
      "Epoch 1/15\n",
      "1875/1875 [==============================] - 32s 17ms/step - loss: 0.4606 - sparse_categorical_accuracy: 0.8515 - val_loss: 0.3178 - val_sparse_categorical_accuracy: 0.8849\n",
      "Epoch 2/15\n",
      "1875/1875 [==============================] - 30s 16ms/step - loss: 0.2877 - sparse_categorical_accuracy: 0.8951 - val_loss: 0.2770 - val_sparse_categorical_accuracy: 0.9028\n",
      "Epoch 3/15\n",
      "1875/1875 [==============================] - 31s 16ms/step - loss: 0.2499 - sparse_categorical_accuracy: 0.9088 - val_loss: 0.2460 - val_sparse_categorical_accuracy: 0.9127\n",
      "Epoch 4/15\n",
      "1875/1875 [==============================] - 30s 16ms/step - loss: 0.2262 - sparse_categorical_accuracy: 0.9171 - val_loss: 0.2676 - val_sparse_categorical_accuracy: 0.9052\n",
      "Epoch 5/15\n",
      "1875/1875 [==============================] - 31s 17ms/step - loss: 0.2041 - sparse_categorical_accuracy: 0.9245 - val_loss: 0.2472 - val_sparse_categorical_accuracy: 0.9104\n",
      "Epoch 6/15\n",
      "1875/1875 [==============================] - 31s 16ms/step - loss: 0.1851 - sparse_categorical_accuracy: 0.9307 - val_loss: 0.2722 - val_sparse_categorical_accuracy: 0.9038\n",
      "Epoch 7/15\n",
      "1875/1875 [==============================] - 31s 16ms/step - loss: 0.1727 - sparse_categorical_accuracy: 0.9373 - val_loss: 0.2716 - val_sparse_categorical_accuracy: 0.9087\n",
      "Epoch 8/15\n",
      "1875/1875 [==============================] - 32s 17ms/step - loss: 0.1580 - sparse_categorical_accuracy: 0.9423 - val_loss: 0.2853 - val_sparse_categorical_accuracy: 0.9068\n",
      "Epoch 9/15\n",
      "1875/1875 [==============================] - 32s 17ms/step - loss: 0.1480 - sparse_categorical_accuracy: 0.9455 - val_loss: 0.2926 - val_sparse_categorical_accuracy: 0.9111\n",
      "Epoch 10/15\n",
      "1875/1875 [==============================] - 31s 17ms/step - loss: 0.1363 - sparse_categorical_accuracy: 0.9495 - val_loss: 0.3063 - val_sparse_categorical_accuracy: 0.9129\n",
      "Epoch 11/15\n",
      "1875/1875 [==============================] - 31s 17ms/step - loss: 0.1275 - sparse_categorical_accuracy: 0.9532 - val_loss: 0.3123 - val_sparse_categorical_accuracy: 0.9121\n",
      "Epoch 12/15\n",
      "1875/1875 [==============================] - 32s 17ms/step - loss: 0.1217 - sparse_categorical_accuracy: 0.9558 - val_loss: 0.3341 - val_sparse_categorical_accuracy: 0.9094\n",
      "Epoch 13/15\n",
      "1875/1875 [==============================] - 33s 18ms/step - loss: 0.1122 - sparse_categorical_accuracy: 0.9588 - val_loss: 0.3679 - val_sparse_categorical_accuracy: 0.9093\n",
      "Epoch 14/15\n",
      "1875/1875 [==============================] - 35s 19ms/step - loss: 0.1110 - sparse_categorical_accuracy: 0.9600 - val_loss: 0.3456 - val_sparse_categorical_accuracy: 0.9087\n",
      "Epoch 15/15\n",
      "1875/1875 [==============================] - 35s 19ms/step - loss: 0.1010 - sparse_categorical_accuracy: 0.9631 - val_loss: 0.3704 - val_sparse_categorical_accuracy: 0.9162\n"
     ]
    },
    {
     "data": {
      "text/plain": [
       "<keras.callbacks.History at 0x1ff2cf112e0>"
      ]
     },
     "execution_count": 25,
     "metadata": {},
     "output_type": "execute_result"
    }
   ],
   "source": [
    "model.fit(X_train, y_train, validation_data=(X_test, y_test), epochs=15)"
   ]
  },
  {
   "cell_type": "code",
   "execution_count": 37,
   "metadata": {},
   "outputs": [
    {
     "name": "stdout",
     "output_type": "stream",
     "text": [
      "4/4 [==============================] - 0s 4ms/step\n"
     ]
    }
   ],
   "source": [
    "model_output = model.predict(X_test[0:100])"
   ]
  },
  {
   "cell_type": "code",
   "execution_count": 38,
   "metadata": {},
   "outputs": [
    {
     "name": "stdout",
     "output_type": "stream",
     "text": [
      "Shirt vs a y-value of Pullover\n",
      "Pullover vs a y-value of Coat\n",
      "Shirt vs a y-value of Coat\n",
      "Shirt vs a y-value of Pullover\n",
      "Pullover vs a y-value of Shirt\n",
      "Coat vs a y-value of Pullover\n",
      "Dress vs a y-value of T-shirt\n",
      "Pullover vs a y-value of Coat\n",
      "Pullover vs a y-value of Shirt\n",
      "Bag vs a y-value of Coat\n",
      "Shirt vs a y-value of Coat\n",
      "Coat vs a y-value of Pullover\n",
      "Dress vs a y-value of Shirt\n"
     ]
    }
   ],
   "source": [
    "for count, x in enumerate(model_output):\n",
    "    if(model_output[count].argmax() != y_test[count]):\n",
    "        print(f\"{mapping[model_output[count].argmax()]} vs a y-value of {mapping[(y_test[count])]}\")"
   ]
  },
  {
   "cell_type": "code",
   "execution_count": null,
   "metadata": {},
   "outputs": [],
   "source": []
  },
  {
   "cell_type": "code",
   "execution_count": null,
   "metadata": {},
   "outputs": [],
   "source": []
  }
 ],
 "metadata": {
  "kernelspec": {
   "display_name": "Python 3",
   "language": "python",
   "name": "python3"
  },
  "language_info": {
   "codemirror_mode": {
    "name": "ipython",
    "version": 3
   },
   "file_extension": ".py",
   "mimetype": "text/x-python",
   "name": "python",
   "nbconvert_exporter": "python",
   "pygments_lexer": "ipython3",
   "version": "3.8.5"
  }
 },
 "nbformat": 4,
 "nbformat_minor": 4
}
