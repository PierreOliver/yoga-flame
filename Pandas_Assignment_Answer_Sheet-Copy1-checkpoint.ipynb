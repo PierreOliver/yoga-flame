{
 "cells": [
  {
   "cell_type": "markdown",
   "metadata": {},
   "source": [
    "### Pandas Exercises\n",
    "\n",
    "This set of exercises is meant to give you a short assignment to address your aptitude for Python and Pandas. You will be given time to complete the questions on your own, but should be prepared to present and discuss your logic in solving each one. Similar to the sess You are encouraged to check out the [pandas documentation](http://pandas.pydata.org/pandas-docs/stable/) to find functions or methods you might not have used yet, or ask questions on [Stack Overflow](http://stackoverflow.com/)"
   ]
  },
  {
   "cell_type": "markdown",
   "metadata": {},
   "source": [
    "### Question 1\n",
    "Load  energy data from the file `Energy Indicators.xls`, which is a list of indicators of [energy supply and renewable electricity production](Energy%20Indicators.xls) from the [United Nations](http://unstats.un.org/unsd/environment/excel_file_tables/2013/Energy%20Indicators.xls) for the year 2013, and should be put into a DataFrame with the variable name of **energy**.\n",
    "\n",
    "This is an Excel file. Make sure to exclude the footer and header information from the datafile. The first two columns are unneccessary, so you should get rid of them, and you should change the column labels so that the columns are:\n",
    "\n",
    "`['Country', 'Energy Supply', 'Energy Supply per Capita', '% Renewable']`\n",
    "\n",
    "Convert `Energy Supply` to gigajoules (there are 1,000,000 gigajoules in a petajoule). For all countries which have missing data (e.g. data with \"...\") make sure this is reflected as `np.NaN` values.\n",
    "\n",
    "Rename the following list of countries (for use in later questions):\n",
    "\n",
    "```\"Republic of Korea\": \"South Korea\",\n",
    "\"United States of America\": \"United States\",\n",
    "\"United Kingdom of Great Britain and Northern Ireland\": \"United Kingdom\",\n",
    "\"China, Hong Kong Special Administrative Region\": \"Hong Kong\"```\n",
    "\n",
    "There are also several countries with numbers and/or parenthesis in their name. Be sure to remove these, \n",
    "\n",
    "e.g. \n",
    "\n",
    "`'Bolivia (Plurinational State of)'` should be `'Bolivia'`, \n",
    "\n",
    "`'Switzerland17'` should be `'Switzerland'`.\n",
    "\n",
    "<br>\n",
    "\n",
    "Next, load the GDP data from the file `world_bank.csv`, which is a csv containing countries' GDP from 1960 to 2015 from [World Bank](http://data.worldbank.org/indicator/NY.GDP.MKTP.CD). Call this DataFrame **GDP**. \n",
    "\n",
    "Make sure to skip the header, and rename the following list of countries:\n",
    "\n",
    "```\"Korea, Rep.\": \"South Korea\", \n",
    "\"Iran, Islamic Rep.\": \"Iran\",\n",
    "\"Hong Kong SAR, China\": \"Hong Kong\"```\n",
    "\n",
    "<br>\n",
    "\n",
    "Finally, load the [Sciamgo Journal and Country Rank data for Energy Engineering and Power Technology](http://www.scimagojr.com/countryrank.php?category=2102) from the file `scimagojr-3.xlsx`, which ranks countries based on their journal contributions in the aforementioned area. Call this DataFrame **ScimEn**.\n",
    "\n",
    "Join the three datasets: GDP, Energy, and ScimEn into a new dataset (using the intersection of country names). Use only the last 10 years (2006-2015) of GDP data and only the top 15 countries by Scimagojr 'Rank' (Rank 1 through 15). \n",
    "\n",
    "The index of this DataFrame should be the name of the country, and the columns should be ['Rank', 'Documents', 'Citable documents', 'Citations', 'Self-citations',\n",
    "       'Citations per document', 'H index', 'Energy Supply',\n",
    "       'Energy Supply per Capita', '% Renewable', '2006', '2007', '2008',\n",
    "       '2009', '2010', '2011', '2012', '2013', '2014', '2015'].\n",
    "\n",
    "<b> *This function should return a DataFrame with 20 columns and 15 entries.*</b>"
   ]
  },
  {
   "cell_type": "code",
   "execution_count": 5,
   "metadata": {},
   "outputs": [
    {
     "data": {
      "text/plain": [
       "(15, 20)"
      ]
     },
     "execution_count": 5,
     "metadata": {},
     "output_type": "execute_result"
    }
   ],
   "source": [
    "def answer_one():\n",
    "    import pandas as pd\n",
    "    import numpy as np\n",
    "    from pandas import ExcelWriter\n",
    "    from pandas import ExcelFile\n",
    "    from string import digits\n",
    "    \n",
    "    #Function to remove digits from all Country entries\n",
    "    def remove_digit(juststr):\n",
    "        newstr = ''.join([i for i in juststr if not i.isdigit()])\n",
    "        i = newstr.find('(')\n",
    "        if i>-1: newstr = newstr[:i]\n",
    "        return newstr.strip()\n",
    "    \n",
    "    \n",
    "    #Read excel file and only take the data\n",
    "    energy = pd.read_excel('Energy Indicators.xls')\n",
    "    energy = energy[17:243]#.loc[16:242,:]\n",
    "    \n",
    "    #Rename Columns\n",
    "    energy = energy.drop([energy.columns[0] , energy.columns[1]] ,  axis='columns')\n",
    "    energy.columns=(['Country', 'Energy Supply', 'Energy Supply per Capita', '% Renewable'])\n",
    "    \n",
    "    #energy\n",
    "    #Convert peta to giga joules\n",
    "    energy['Energy Supply']=energy['Energy Supply'].apply(lambda x: np.NaN if x=='...' else 1000000.00* float(x))\n",
    "    energy=energy.reset_index(drop =True)\n",
    "\n",
    "    #Remove numbers and then apply replace\n",
    "    energy['Country']=energy['Country'].apply(remove_digit)\n",
    "    energy['Country']=energy['Country'].replace({'Republic of Korea': 'South Korea', 'United States of America': 'United States', 'United Kingdom of Great Britain and Northern Ireland': 'United Kingdom', 'China, Hong Kong Special Administrative Region': 'Hong Kong'})\n",
    "    \n",
    "    #Extract Data for Second Dataframe\n",
    "    GDP = pd.read_csv('world_bank.csv', header=4)\n",
    "    GDP = GDP.replace({\"Korea, Rep.\": \"South Korea\", \"Iran, Islamic Rep.\": \"Iran\", \"Hong Kong SAR, China\": \"Hong Kong\"}).reset_index(drop=True)\n",
    "    GDP.rename(columns={GDP.columns[0]: \"Country\" }, inplace = True)\n",
    "    GDP = GDP.drop(GDP.iloc[:, 1:-10], axis = 1) \n",
    "\n",
    "    #Final Data File and Join Dataframe\n",
    "    ScimEn = pd.read_excel(\"scimagojr-3.xlsx\")\n",
    "    Question2_df = ScimEn.copy()\n",
    "    ScimEn = ScimEn.set_index('Country').join(energy.set_index('Country'))\n",
    "    ScimEn = ScimEn.join(GDP.set_index('Country'))\n",
    "\n",
    "    #Clip final display\n",
    "    ScimEn = ScimEn[ScimEn['Rank']<=15]\n",
    "    ScimEn.columns=(['Rank', 'Documents', 'Citable documents', 'Citations', 'Self-citations', 'Citations per document', 'H index', 'Energy Supply', 'Energy Supply per Capita', '% Renewable', '2006', '2007', '2008', '2009', '2010', '2011', '2012', '2013', '2014', '2015'])\n",
    "    ScimEn['Energy Supply per Capita']=ScimEn['Energy Supply per Capita'].astype('float64')\n",
    "    ScimEn['% Renewable']=ScimEn['% Renewable'].astype('float64')\n",
    "    \n",
    "    return ScimEn\n",
    "\n",
    "\n",
    "answer_one()"
   ]
  },
  {
   "cell_type": "markdown",
   "metadata": {},
   "source": [
    "### Question 2 \n",
    "The previous question joined three datasets then reduced this to just the top 15 entries. When you joined the datasets, but before you reduced this to the top 15 items, how many entries did you lose?\n",
    "\n",
    "<b>*This function should return a single number.*</b>"
   ]
  },
  {
   "cell_type": "code",
   "execution_count": 6,
   "metadata": {},
   "outputs": [
    {
     "data": {
      "text/html": [
       "<svg width=\"800\" height=\"300\">\n",
       "  <circle cx=\"150\" cy=\"180\" r=\"80\" fill-opacity=\"0.2\" stroke=\"black\" stroke-width=\"2\" fill=\"blue\" />\n",
       "  <circle cx=\"200\" cy=\"100\" r=\"80\" fill-opacity=\"0.2\" stroke=\"black\" stroke-width=\"2\" fill=\"red\" />\n",
       "  <circle cx=\"100\" cy=\"100\" r=\"80\" fill-opacity=\"0.2\" stroke=\"black\" stroke-width=\"2\" fill=\"green\" />\n",
       "  <line x1=\"150\" y1=\"125\" x2=\"300\" y2=\"150\" stroke=\"black\" stroke-width=\"2\" fill=\"black\" stroke-dasharray=\"5,3\"/>\n",
       "  <text  x=\"300\" y=\"165\" font-family=\"Verdana\" font-size=\"35\">Everything but this!</text>\n",
       "</svg>\n"
      ],
      "text/plain": [
       "<IPython.core.display.HTML object>"
      ]
     },
     "metadata": {},
     "output_type": "display_data"
    }
   ],
   "source": [
    "%%HTML\n",
    "<svg width=\"800\" height=\"300\">\n",
    "  <circle cx=\"150\" cy=\"180\" r=\"80\" fill-opacity=\"0.2\" stroke=\"black\" stroke-width=\"2\" fill=\"blue\" />\n",
    "  <circle cx=\"200\" cy=\"100\" r=\"80\" fill-opacity=\"0.2\" stroke=\"black\" stroke-width=\"2\" fill=\"red\" />\n",
    "  <circle cx=\"100\" cy=\"100\" r=\"80\" fill-opacity=\"0.2\" stroke=\"black\" stroke-width=\"2\" fill=\"green\" />\n",
    "  <line x1=\"150\" y1=\"125\" x2=\"300\" y2=\"150\" stroke=\"black\" stroke-width=\"2\" fill=\"black\" stroke-dasharray=\"5,3\"/>\n",
    "  <text  x=\"300\" y=\"165\" font-family=\"Verdana\" font-size=\"35\">Everything but this!</text>\n",
    "</svg>"
   ]
  },
  {
   "cell_type": "code",
   "execution_count": 16,
   "metadata": {},
   "outputs": [
    {
     "data": {
      "text/plain": [
       "157"
      ]
     },
     "execution_count": 16,
     "metadata": {},
     "output_type": "execute_result"
    }
   ],
   "source": [
    "def answer_two():\n",
    "    \n",
    "    import numpy as np\n",
    "    import pandas as pd\n",
    "    \n",
    "    answer_one()\n",
    "    #Function to remove digits from all Country entries\n",
    "    def remove_digit(juststr):\n",
    "        newstr = ''.join([i for i in juststr if not i.isdigit()])\n",
    "        i = newstr.find('(')\n",
    "        if i>-1: newstr = newstr[:i]\n",
    "        return newstr.strip()\n",
    "    \n",
    "    #Read excel file and only take the data\n",
    "    energy = pd.read_excel('Energy Indicators.xls')\n",
    "    energy = energy.loc[17:242,:]\n",
    "\n",
    "    #Rename Columns\n",
    "    energy = energy.drop([energy.columns[0] , energy.columns[1]] ,  axis='columns')\n",
    "    energy.columns=(['Country', 'Energy Supply', 'Energy Supply per Capita', '% Renewable'])\n",
    "\n",
    "    #Convert peta to giga joules\n",
    "    energy['Energy Supply']=energy['Energy Supply'].apply(lambda x: np.NaN if x=='...' else 1000000* float(x))\n",
    "    energy=energy.reset_index(drop =True)\n",
    "\n",
    "    #Remove numbers and then apply replace\n",
    "    \n",
    "    energy['Country']=energy['Country'].apply(remove_digit)\n",
    "    energy['Country']=energy['Country'].replace({'Republic of Korea': 'South Korea', 'United States of America': 'United States', 'United Kingdom of Great Britain and Northern Ireland': 'United Kingdom', 'China, Hong Kong Special Administrative Region': 'Hong Kong'})\n",
    "\n",
    "    #energy\n",
    "\n",
    "    #Extract Data for Second Dataframe\n",
    "    GDP = pd.read_csv('world_bank.csv', header=4)\n",
    "    GDP = GDP.replace({\"Korea, Rep.\": \"South Korea\", \"Iran, Islamic Rep.\": \"Iran\", \"Hong Kong SAR, China\": \"Hong Kong\"}).reset_index(drop=True)\n",
    "    GDP.rename(columns={GDP.columns[0]: \"Country\" }, inplace = True)\n",
    "    GDP = GDP.drop(GDP.iloc[:, 1:-10], axis = 1) \n",
    "\n",
    "    #Final Data File and Join Dataframe\n",
    "    ScimEn = pd.read_excel(\"scimagojr-3.xlsx\")\n",
    "    intersect_df = pd.merge(pd.merge(energy, GDP, on='Country'), ScimEn, on='Country')\n",
    "    Union_df= pd.merge(energy, GDP, how='outer', on='Country')\n",
    "    Union_df= pd.merge(Union_df,ScimEn, how='outer', on='Country')\n",
    "    \n",
    "    return (Union_df.shape[0]- intersect_df.shape[0])\n",
    "\n",
    "answer_two()\n"
   ]
  },
  {
   "cell_type": "markdown",
   "metadata": {},
   "source": [
    "<br>\n",
    "\n",
    "Answer the following questions in the context of only the top 15 countries by Scimagojr Rank (aka the DataFrame returned by `answer_one()`)"
   ]
  },
  {
   "cell_type": "markdown",
   "metadata": {},
   "source": [
    "### Question 3\n",
    "What is the average GDP over the last 10 years for each country? (exclude missing values from this calculation.)\n",
    "\n",
    "<b>*This function should return a Series named `avgGDP` with 15 countries and their average GDP sorted in descending order.*</b>"
   ]
  },
  {
   "cell_type": "code",
   "execution_count": 17,
   "metadata": {
    "scrolled": true
   },
   "outputs": [
    {
     "data": {
      "text/plain": [
       "Country\n",
       "United States         1.536434e+13\n",
       "China                 6.348609e+12\n",
       "Japan                 5.542208e+12\n",
       "Germany               3.493025e+12\n",
       "France                2.681725e+12\n",
       "United Kingdom        2.487907e+12\n",
       "Brazil                2.189794e+12\n",
       "Italy                 2.120175e+12\n",
       "India                 1.769297e+12\n",
       "Canada                1.660647e+12\n",
       "Russian Federation    1.565459e+12\n",
       "Spain                 1.418078e+12\n",
       "Australia             1.164043e+12\n",
       "South Korea           1.106715e+12\n",
       "Iran                  4.441558e+11\n",
       "Name: avgGDP, dtype: float64"
      ]
     },
     "execution_count": 17,
     "metadata": {},
     "output_type": "execute_result"
    }
   ],
   "source": [
    "import numpy as np\n",
    "import pandas as pd\n",
    "    \n",
    "def answer_three():\n",
    "    \n",
    "    Top15 = answer_one()\n",
    "    Top15['avgGDP'] = Top15.loc[:,'2006':'2015'].apply(lambda x: np.mean(x),axis=1)\n",
    "    avgGDP = Top15.avgGDP.sort_values(ascending=False)\n",
    "    return avgGDP\n",
    "\n",
    "answer_three()"
   ]
  },
  {
   "cell_type": "markdown",
   "metadata": {},
   "source": [
    "### Question 4 \n",
    "By how much had the GDP changed over the 10 year span for the country with the 6th largest average GDP?\n",
    "\n",
    "<b>*This function should return a single number.*</b>"
   ]
  },
  {
   "cell_type": "code",
   "execution_count": 18,
   "metadata": {
    "scrolled": true
   },
   "outputs": [
    {
     "data": {
      "text/plain": [
       "246702696075.3999"
      ]
     },
     "execution_count": 18,
     "metadata": {},
     "output_type": "execute_result"
    }
   ],
   "source": [
    "def answer_four():\n",
    "    \n",
    "    Top15 = answer_one()\n",
    "    Top15['GDPChg'] = Top15.loc[:,'2006':'2015'].apply(lambda x: abs(x[0]-x[-1]),axis=1)\n",
    "    Top15['avgGDP'] = Top15.loc[:,'2006':'2015'].apply(lambda x: np.mean(x),axis=1)\n",
    "    Top15['GDPRank'] = Top15['avgGDP'].rank(ascending=False)\n",
    "    \n",
    "    return Top15[Top15['GDPRank']==6].GDPChg[0]\n",
    "\n",
    "answer_four()"
   ]
  },
  {
   "cell_type": "markdown",
   "metadata": {},
   "source": [
    "### Question 5 \n",
    "What is the mean of `Energy Supply per Capita`?\n",
    "\n",
    "<b>*This function should return a single number.*</b>"
   ]
  },
  {
   "cell_type": "code",
   "execution_count": 19,
   "metadata": {},
   "outputs": [
    {
     "data": {
      "text/plain": [
       "157.6"
      ]
     },
     "execution_count": 19,
     "metadata": {},
     "output_type": "execute_result"
    }
   ],
   "source": [
    "def answer_five():\n",
    "    Top15 = answer_one()\n",
    "    return Top15.loc[:,'Energy Supply per Capita'].mean()\n",
    "\n",
    "answer_five()"
   ]
  },
  {
   "cell_type": "markdown",
   "metadata": {},
   "source": [
    "### Question 6 \n",
    "What country has the maximum % Renewable and what is the percentage?\n",
    "\n",
    "<b>*This function should return a tuple with the name of the country and the percentage.*</b>"
   ]
  },
  {
   "cell_type": "code",
   "execution_count": 20,
   "metadata": {},
   "outputs": [
    {
     "data": {
      "text/plain": [
       "('Brazil', 69.64803)"
      ]
     },
     "execution_count": 20,
     "metadata": {},
     "output_type": "execute_result"
    }
   ],
   "source": [
    "def answer_six():\n",
    "    \n",
    "    Top15 = answer_one()\n",
    "    question_six = Top15[Top15['% Renewable']==Top15['% Renewable'].max()]\n",
    "    list_six = [question_six.index[0], question_six['% Renewable'][0]]    \n",
    "    \n",
    "    return tuple(list_six)\n",
    "\n",
    "answer_six()"
   ]
  },
  {
   "cell_type": "markdown",
   "metadata": {},
   "source": [
    "### Question 7 \n",
    "Create a new column that is the ratio of Self-Citations to Total Citations. \n",
    "What is the maximum value for this new column, and what country has the highest ratio?\n",
    "\n",
    "<b>*This function should return a tuple with the name of the country and the ratio.*</b>"
   ]
  },
  {
   "cell_type": "code",
   "execution_count": 21,
   "metadata": {},
   "outputs": [
    {
     "data": {
      "text/plain": [
       "('China', 0.6893126179389422)"
      ]
     },
     "execution_count": 21,
     "metadata": {},
     "output_type": "execute_result"
    }
   ],
   "source": [
    "def answer_seven():\n",
    "    Top15 = answer_one()\n",
    "    Top15['Citations Ratio'] = Top15['Self-citations'] / Top15['Citations']\n",
    "    cit_rat_max = Top15[Top15['Citations Ratio']==Top15['Citations Ratio'].max()]\n",
    "    question_seven = [cit_rat_max.index[0], cit_rat_max['Citations Ratio'][0]]\n",
    "\n",
    "    return tuple(question_seven)\n",
    "\n",
    "answer_seven()"
   ]
  },
  {
   "cell_type": "markdown",
   "metadata": {},
   "source": [
    "### Question 8 \n",
    "\n",
    "Create a column that estimates the population using Energy Supply and Energy Supply per capita. \n",
    "What is the third most populous country according to this estimate?\n",
    "\n",
    "<b>*This function should return a single string value.*</b>"
   ]
  },
  {
   "cell_type": "code",
   "execution_count": 22,
   "metadata": {},
   "outputs": [
    {
     "data": {
      "text/plain": [
       "'United States'"
      ]
     },
     "execution_count": 22,
     "metadata": {},
     "output_type": "execute_result"
    }
   ],
   "source": [
    "def answer_eight():\n",
    "    \n",
    "    Top15 = answer_one()\n",
    "    Top15['PopEstimate'] = Top15['Energy Supply'] / Top15['Energy Supply per Capita']\n",
    "    Top15['PopEstimateRank'] = Top15['PopEstimate'].rank(ascending=False)\n",
    "    #print(Top15)\n",
    "    return (Top15[Top15['PopEstimateRank']==3].index[0])\n",
    "    \n",
    "answer_eight()"
   ]
  },
  {
   "cell_type": "markdown",
   "metadata": {},
   "source": [
    "### Question 9 \n",
    "Create a column that estimates the number of citable documents per person. \n",
    "What is the correlation between the number of citable documents per capita and the energy supply per capita? Use the `.corr()` method, (Pearson's correlation).\n",
    "\n",
    "<b>*This function should return a single number.*</b>"
   ]
  },
  {
   "cell_type": "code",
   "execution_count": 23,
   "metadata": {},
   "outputs": [
    {
     "data": {
      "text/plain": [
       "0.7940010435442946"
      ]
     },
     "execution_count": 23,
     "metadata": {},
     "output_type": "execute_result"
    }
   ],
   "source": [
    "def answer_nine():\n",
    "    \n",
    "    Top15 = answer_one()\n",
    "    Top15['PopEstimate'] = Top15['Energy Supply'] / Top15['Energy Supply per Capita']\n",
    "    Top15['Citable per Capita'] = Top15['Citable documents'] / Top15['PopEstimate']\n",
    "    Correl = Top15['Citable per Capita'].corr(Top15['Energy Supply per Capita'])\n",
    " \n",
    "    return Correl\n",
    "\n",
    "answer_nine()"
   ]
  },
  {
   "cell_type": "markdown",
   "metadata": {},
   "source": [
    "### Question 10 \n",
    "Create a new column with a 1 if the country's % Renewable value is at or above the median for all countries in the top 15, and a 0 if the country's % Renewable value is below the median.\n",
    "\n",
    "<b>*This function should return a series named `HighRenew` whose index is the country name sorted in ascending order of rank.*</b>"
   ]
  },
  {
   "cell_type": "code",
   "execution_count": 693,
   "metadata": {},
   "outputs": [
    {
     "data": {
      "text/plain": [
       "Country\n",
       "China                 1\n",
       "United States         0\n",
       "Japan                 0\n",
       "United Kingdom        0\n",
       "Russian Federation    1\n",
       "Canada                1\n",
       "Germany               1\n",
       "India                 0\n",
       "France                1\n",
       "South Korea           0\n",
       "Italy                 1\n",
       "Spain                 1\n",
       "Iran                  0\n",
       "Australia             0\n",
       "Brazil                1\n",
       "Name: HighRenew, dtype: int64"
      ]
     },
     "execution_count": 693,
     "metadata": {},
     "output_type": "execute_result"
    }
   ],
   "source": [
    "def answer_ten():\n",
    "    Top15 = answer_one()\n",
    "    Renewable_median = Top15['% Renewable'].median()\n",
    "    Top15['HighRenew']= Top15['% Renewable'].apply(lambda x: 1 if x>=Renewable_median else 0)\n",
    "    \n",
    "    return Top15['HighRenew']\n",
    "\n",
    "answer_ten()"
   ]
  },
  {
   "cell_type": "code",
   "execution_count": null,
   "metadata": {},
   "outputs": [],
   "source": [
    "#plot_optional() # Be sure to comment out plot_optional() before submitting the assignment!"
   ]
  }
 ],
 "metadata": {
  "anaconda-cloud": {},
  "coursera": {
   "course_slug": "python-data-analysis",
   "graded_item_id": "zAr06",
   "launcher_item_id": "KSSjT",
   "part_id": "SL3fU"
  },
  "kernelspec": {
   "display_name": "Python 3",
   "language": "python",
   "name": "python3"
  },
  "language_info": {
   "codemirror_mode": {
    "name": "ipython",
    "version": 3
   },
   "file_extension": ".py",
   "mimetype": "text/x-python",
   "name": "python",
   "nbconvert_exporter": "python",
   "pygments_lexer": "ipython3",
   "version": "3.8.5"
  }
 },
 "nbformat": 4,
 "nbformat_minor": 4
}
